{
 "cells": [
  {
   "cell_type": "code",
   "execution_count": null,
   "metadata": {},
   "outputs": [],
   "source": [
    "## Missing Data Assignment"
   ]
  },
  {
   "cell_type": "markdown",
   "metadata": {},
   "source": [
    "Step 1:\n",
    "Using Sklearn get the Boston Housing dataset.\n",
    "Fit a linear regressor to the data as a baseline.  There is no need to do Cross-Validation.  We are exploring the change in results"
   ]
  },
  {
   "cell_type": "code",
   "execution_count": null,
   "metadata": {},
   "outputs": [],
   "source": [
    "%matplotlib inline \n",
    "\n",
    "import numpy as np\n",
    "import pandas as pd\n",
    "import matplotlib.pyplot as plt\n",
    "import sklearn\n",
    "import seaborn as sns\n",
    "\n",
    "# disable chained assignments\n",
    "pd.options.mode.chained_assignment = None "
   ]
  },
  {
   "cell_type": "code",
   "execution_count": null,
   "metadata": {},
   "outputs": [],
   "source": [
    "from sklearn.datasets import load_boston\n",
    "#load dataset\n",
    "boston = load_boston()"
   ]
  },
  {
   "cell_type": "code",
   "execution_count": null,
   "metadata": {},
   "outputs": [],
   "source": [
    "# Get metadata on Boston data set\n",
    "print(boston.DESCR)"
   ]
  },
  {
   "cell_type": "code",
   "execution_count": null,
   "metadata": {},
   "outputs": [],
   "source": [
    "bos = pd.DataFrame(boston.data)\n",
    "\n",
    "bos.columns = boston.feature_names\n",
    "bos.head()"
   ]
  },
  {
   "cell_type": "code",
   "execution_count": null,
   "metadata": {},
   "outputs": [],
   "source": [
    "bos.dropna().corr(method='spearman')"
   ]
  },
  {
   "cell_type": "code",
   "execution_count": null,
   "metadata": {},
   "outputs": [],
   "source": [
    "#add predictor to df\n",
    "bos['PRICE'] = boston.target\n",
    "bos.head()"
   ]
  },
  {
   "cell_type": "code",
   "execution_count": null,
   "metadata": {},
   "outputs": [],
   "source": [
    "from numpy.polynomial.polynomial import polyfit"
   ]
  },
  {
   "cell_type": "code",
   "execution_count": null,
   "metadata": {},
   "outputs": [],
   "source": [
    "from sklearn.linear_model import LinearRegression\n",
    "#fit a linear regressor model\n",
    "lm = LinearRegression()\n",
    "X = bos.iloc[:,:-1]  #iloc gives the positional locations, so 'all rows' and 'all but the last column'\n",
    "Y_true = bos.iloc[:,-1] # Gives us all rows in the last column\n",
    "lm.fit(X,Y_true)\n",
    "\n",
    "Y_pred = lm.predict(X)\n",
    "#plot predicted vs actual\n",
    "\n",
    "plt.rc('figure', figsize=(6, 6))\n",
    "\n",
    "plt.scatter(Y_true, Y_pred)\n",
    "plt.xlabel(\"Prices: $Y_i$\")\n",
    "plt.ylabel(\"Predicted prices: $\\hat{Y}_i$\")\n",
    "# plt.title(\"Prices vs Predicted prices: $Y_i$ vs $\\hat{Y}_i$\")\n",
    "# plt.show()\n",
    "\n",
    "plt.rc('xtick', labelsize=16) \n",
    "plt.rc('ytick', labelsize=16)\n",
    "plt.rc('axes', labelsize=16) \n",
    "\n",
    "plt.savefig('LRModel.png', dpi=300)"
   ]
  },
  {
   "cell_type": "markdown",
   "metadata": {},
   "source": [
    "What is the loss and what are the goodness of fit parameters?  This will be our baseline for comparison"
   ]
  },
  {
   "cell_type": "code",
   "execution_count": null,
   "metadata": {},
   "outputs": [],
   "source": [
    "#calculate baseline r2\n",
    "rSquared_Base = lm.score(X,Y_true) # r squared score\n",
    "rSquared_Base"
   ]
  },
  {
   "cell_type": "code",
   "execution_count": null,
   "metadata": {},
   "outputs": [],
   "source": [
    "# Compare these baseline mse and mean absolute error to the new ones\n",
    "# when we impute data\n",
    "from sklearn.metrics import mean_squared_error, mean_absolute_error\n",
    "mseBase = (mean_squared_error(Y_pred,Y_true))\n",
    "print (mseBase)\n",
    "maeBase = (mean_absolute_error(Y_pred,Y_true))\n",
    "print (maeBase)"
   ]
  },
  {
   "cell_type": "markdown",
   "metadata": {},
   "source": [
    "Step 2: (repeated)\n",
    "For select between 1, 5 10, 20, 33, and 50% of your data on a single column (Completely at random), replace the present value with a NAN and then perform an imputation of that value.   \n",
    "\n",
    "In. each case perform a fit with the imputed data and compare the loss and goodness of fit to your baseline."
   ]
  },
  {
   "cell_type": "code",
   "execution_count": null,
   "metadata": {},
   "outputs": [],
   "source": [
    "# 1%"
   ]
  },
  {
   "cell_type": "code",
   "execution_count": null,
   "metadata": {},
   "outputs": [],
   "source": [
    "import random\n",
    "random.random()"
   ]
  },
  {
   "cell_type": "code",
   "execution_count": null,
   "metadata": {},
   "outputs": [],
   "source": [
    "# MCAR column 4 \n",
    "limit = .01\n",
    "for i in range(X.shape[0]):\n",
    "    miss_1 = random.random()\n",
    "   # miss_2 = random.random()\n",
    "    if miss_1 < limit:\n",
    "        X.iloc[i,4] = np.nan\n",
    "    #if miss_2 < limit:\n",
    "     #   X.iloc[i,7] = np.nan\n",
    "\n",
    "#X.shape\n",
    "\n",
    "# Number of NA's in column 4 (NOX)\n",
    "X.loc[X.iloc[:,4].isna(),'NOX'].shape\n",
    "\n",
    "# Substitute NA's with the mean\n",
    "sub = X['NOX'].mean()\n",
    "\n",
    "#X\n",
    "\n",
    "\n",
    "X.loc[X.iloc[:,4].isna(),'NOX'] = sub\n",
    "\n",
    "# Assign sub the mean value of column 7\n",
    "#sub = X['DIS'].mean()\n",
    "\n",
    "#X.loc[X.iloc[:,7].isna(),'DIS'] = sub\n",
    "\n",
    "#X\n",
    "\n",
    "from sklearn.linear_model import LinearRegression\n",
    "\n",
    "lm.fit(X,Y_true)\n",
    "\n",
    "Y_pred = lm.predict(X)\n",
    "\n",
    "plt.rc('figure', figsize=(6, 6))\n",
    "\n",
    "plt.scatter(Y_true, Y_pred)\n",
    "plt.xlabel(\"Prices: $Y_i$\")\n",
    "plt.ylabel(\"Predicted prices: $\\hat{Y}_i$\")\n",
    "# plt.title(\"Prices vs Predicted prices: $Y_i$ vs $\\hat{Y}_i$\")\n",
    "# plt.show()\n",
    "plt.rc('xtick', labelsize=16) \n",
    "plt.rc('ytick', labelsize=16)\n",
    "plt.rc('axes', labelsize=16) \n",
    "\n",
    "plt.savefig('mcar1.png', dpi=300)"
   ]
  },
  {
   "cell_type": "code",
   "execution_count": null,
   "metadata": {},
   "outputs": [],
   "source": [
    "# r squared with filled in value for the mean\n",
    "rSquared_1 = lm.score(X,Y_true)\n",
    "rSquared_1"
   ]
  },
  {
   "cell_type": "code",
   "execution_count": null,
   "metadata": {},
   "outputs": [],
   "source": [
    "mse1Pct = (mean_squared_error(Y_pred,Y_true))\n",
    "print(mse1Pct)\n",
    "mae1Pct = (mean_absolute_error(Y_pred,Y_true))\n",
    "print(mae1Pct)"
   ]
  },
  {
   "cell_type": "code",
   "execution_count": null,
   "metadata": {},
   "outputs": [],
   "source": [
    "# 5%"
   ]
  },
  {
   "cell_type": "code",
   "execution_count": null,
   "metadata": {},
   "outputs": [],
   "source": [
    "# MCAR columns 4 and 7\n",
    "limit = .05\n",
    "for i in range(X.shape[0]):\n",
    "    miss_1 = random.random()\n",
    "    #miss_2 = random.random()\n",
    "    if miss_1 < limit:\n",
    "        X.iloc[i,4] = np.nan\n",
    "    #if miss_2 < limit:\n",
    "     #   X.iloc[i,7] = np.nan\n",
    "\n",
    "#X.shape\n",
    "\n",
    "# Number of NA's in column 4 (NOX)\n",
    "X.loc[X.iloc[:,4].isna(),'NOX'].shape\n",
    "\n",
    "# Substitute NA's with the mean\n",
    "sub = X['NOX'].mean()\n",
    "\n",
    "#X\n",
    "\n",
    "\n",
    "X.loc[X.iloc[:,4].isna(),'NOX'] = sub\n",
    "\n",
    "# Assign sub the mean value of column 7\n",
    "#sub = X['DIS'].mean()\n",
    "\n",
    "#X.loc[X.iloc[:,7].isna(),'DIS'] = sub\n",
    "\n",
    "#X\n",
    "\n",
    "from sklearn.linear_model import LinearRegression\n",
    "\n",
    "lm.fit(X,Y_true)\n",
    "\n",
    "Y_pred = lm.predict(X)\n",
    "\n",
    "plt.rc('figure', figsize=(6, 6))\n",
    "\n",
    "plt.scatter(Y_true, Y_pred)\n",
    "plt.xlabel(\"Prices: $Y_i$\")\n",
    "plt.ylabel(\"Predicted prices: $\\hat{Y}_i$\")\n",
    "# plt.title(\"Prices vs Predicted prices: $Y_i$ vs $\\hat{Y}_i$\")\n",
    "\n",
    "# plt.show\n",
    "\n",
    "plt.rc('xtick', labelsize=16) \n",
    "plt.rc('ytick', labelsize=16)\n",
    "plt.rc('axes', labelsize=16) \n",
    "\n",
    "plt.savefig('mcar5.png', dpi=300)"
   ]
  },
  {
   "cell_type": "code",
   "execution_count": null,
   "metadata": {},
   "outputs": [],
   "source": [
    "# r squared with filled in value for the mean\n",
    "rSquared_5 = lm.score(X,Y_true)\n",
    "rSquared_5"
   ]
  },
  {
   "cell_type": "code",
   "execution_count": null,
   "metadata": {},
   "outputs": [],
   "source": [
    "mse5Pct = (mean_squared_error(Y_pred,Y_true))\n",
    "print(mse5Pct)\n",
    "mae5Pct = (mean_absolute_error(Y_pred,Y_true))\n",
    "print(mae5Pct)"
   ]
  },
  {
   "cell_type": "code",
   "execution_count": null,
   "metadata": {},
   "outputs": [],
   "source": [
    "# 10%"
   ]
  },
  {
   "cell_type": "code",
   "execution_count": null,
   "metadata": {},
   "outputs": [],
   "source": [
    "# MCAR columns 4 and 7\n",
    "limit = .10\n",
    "for i in range(X.shape[0]):\n",
    "    miss_1 = random.random()\n",
    "    #miss_2 = random.random()\n",
    "    if miss_1 < limit:\n",
    "        X.iloc[i,4] = np.nan\n",
    "    #if miss_2 < limit:\n",
    "     #   X.iloc[i,7] = np.nan\n",
    "\n",
    "X.shape\n",
    "\n",
    "# Number of NA's in column 4 (NOX)\n",
    "X.loc[X.iloc[:,4].isna(),'NOX'].shape\n",
    "\n",
    "# Substitute NA's with the mean\n",
    "sub = X['NOX'].mean()\n",
    "\n",
    "X\n",
    "\n",
    "\n",
    "X.loc[X.iloc[:,4].isna(),'NOX'] = sub\n",
    "\n",
    "# Assign sub the mean value of column 7\n",
    "#sub = X['DIS'].mean()\n",
    "\n",
    "#X.loc[X.iloc[:,7].isna(),'DIS'] = sub\n",
    "\n",
    "X\n",
    "\n",
    "from sklearn.linear_model import LinearRegression\n",
    "\n",
    "lm.fit(X,Y_true)\n",
    "\n",
    "plt.rc('figure', figsize=(6, 6))\n",
    "\n",
    "Y_pred = lm.predict(X)\n",
    "\n",
    "plt.scatter(Y_true, Y_pred)\n",
    "plt.xlabel(\"Prices: $Y_i$\")\n",
    "plt.ylabel(\"Predicted prices: $\\hat{Y}_i$\")\n",
    "# plt.title(\"Prices vs Predicted prices: $Y_i$ vs $\\hat{Y}_i$\")\n",
    "# plt.show()    \n",
    "\n",
    "plt.rc('xtick', labelsize=16) \n",
    "plt.rc('ytick', labelsize=16)\n",
    "plt.rc('axes', labelsize=16) \n",
    "\n",
    "plt.savefig('mcar10.png', dpi=300)"
   ]
  },
  {
   "cell_type": "code",
   "execution_count": null,
   "metadata": {},
   "outputs": [],
   "source": [
    "# r squared with filled in value for the mean\n",
    "rSquared_10 = lm.score(X,Y_true)\n",
    "rSquared_10"
   ]
  },
  {
   "cell_type": "code",
   "execution_count": null,
   "metadata": {},
   "outputs": [],
   "source": [
    "mse10Pct = (mean_squared_error(Y_pred,Y_true))\n",
    "print(mse10Pct)\n",
    "mae10Pct = (mean_absolute_error(Y_pred,Y_true))\n",
    "print(mae10Pct)"
   ]
  },
  {
   "cell_type": "code",
   "execution_count": null,
   "metadata": {},
   "outputs": [],
   "source": [
    "# 20%"
   ]
  },
  {
   "cell_type": "code",
   "execution_count": null,
   "metadata": {},
   "outputs": [],
   "source": [
    "# MCAR columns 4 and 7\n",
    "limit = .20\n",
    "for i in range(X.shape[0]):\n",
    "    miss_1 = random.random()\n",
    "    #miss_2 = random.random()\n",
    "    if miss_1 < limit:\n",
    "        X.iloc[i,4] = np.nan\n",
    "    #if miss_2 < limit:\n",
    "     #   X.iloc[i,7] = np.nan\n",
    "\n",
    "#X.shape\n",
    "\n",
    "# Number of NA's in column 4 (NOX)\n",
    "X.loc[X.iloc[:,4].isna(),'NOX'].shape\n",
    "\n",
    "# Substitute NA's with the mean\n",
    "sub = X['NOX'].mean()\n",
    "\n",
    "#X\n",
    "\n",
    "\n",
    "X.loc[X.iloc[:,4].isna(),'NOX'] = sub\n",
    "\n",
    "# Assign sub the mean value of column 7\n",
    "#sub = X['DIS'].mean()\n",
    "\n",
    "#X.loc[X.iloc[:,7].isna(),'DIS'] = sub\n",
    "\n",
    "#X\n",
    "\n",
    "from sklearn.linear_model import LinearRegression\n",
    "\n",
    "lm.fit(X,Y_true)\n",
    "\n",
    "plt.rc('figure', figsize=(6, 6))\n",
    "\n",
    "Y_pred = lm.predict(X)\n",
    "\n",
    "plt.scatter(Y_true, Y_pred)\n",
    "plt.xlabel(\"Prices: $Y_i$\")\n",
    "plt.ylabel(\"Predicted prices: $\\hat{Y}_i$\")\n",
    "# plt.title(\"Prices vs Predicted prices: $Y_i$ vs $\\hat{Y}_i$\")\n",
    "# plt.show()\n",
    "\n",
    "plt.rc('xtick', labelsize=16) \n",
    "plt.rc('ytick', labelsize=16)\n",
    "plt.rc('axes', labelsize=16) \n",
    "\n",
    "plt.savefig('mcar20.png', dpi=300)"
   ]
  },
  {
   "cell_type": "code",
   "execution_count": null,
   "metadata": {},
   "outputs": [],
   "source": [
    "# r squared with filled in value for the mean\n",
    "rSquared_20 = lm.score(X,Y_true)\n",
    "rSquared_20"
   ]
  },
  {
   "cell_type": "code",
   "execution_count": null,
   "metadata": {},
   "outputs": [],
   "source": [
    "mse20Pct = (mean_squared_error(Y_pred,Y_true))\n",
    "print(mse20Pct)\n",
    "mae20Pct = (mean_absolute_error(Y_pred,Y_true))\n",
    "print(mae20Pct)"
   ]
  },
  {
   "cell_type": "code",
   "execution_count": null,
   "metadata": {},
   "outputs": [],
   "source": [
    "# 33%"
   ]
  },
  {
   "cell_type": "code",
   "execution_count": null,
   "metadata": {},
   "outputs": [],
   "source": [
    "# MCAR columns 4 and 7\n",
    "limit = .33\n",
    "for i in range(X.shape[0]):\n",
    "    miss_1 = random.random()\n",
    "    #miss_2 = random.random()\n",
    "    if miss_1 < limit:\n",
    "        X.iloc[i,4] = np.nan\n",
    "   # if miss_2 < limit:\n",
    "     #   X.iloc[i,7] = np.nan\n",
    "\n",
    "#X.shape\n",
    "\n",
    "# Number of NA's in column 4 (NOX)\n",
    "X.loc[X.iloc[:,4].isna(),'NOX'].shape\n",
    "\n",
    "# Substitute NA's with the mean\n",
    "sub = X['NOX'].mean()\n",
    "\n",
    "#X\n",
    "\n",
    "\n",
    "X.loc[X.iloc[:,4].isna(),'NOX'] = sub\n",
    "\n",
    "# Assign sub the mean value of column 7\n",
    "#sub = X['DIS'].mean()\n",
    "\n",
    "#X.loc[X.iloc[:,7].isna(),'DIS'] = sub\n",
    "\n",
    "#X\n",
    "from sklearn.linear_model import LinearRegression\n",
    "\n",
    "lm.fit(X,Y_true)\n",
    "\n",
    "plt.rc('figure', figsize=(6, 6))\n",
    "\n",
    "Y_pred = lm.predict(X)\n",
    "\n",
    "plt.scatter(Y_true, Y_pred)\n",
    "plt.xlabel(\"Prices: $Y_i$\")\n",
    "plt.ylabel(\"Predicted prices: $\\hat{Y}_i$\")\n",
    "# plt.title(\"Prices vs Predicted prices: $Y_i$ vs $\\hat{Y}_i$\")\n",
    "\n",
    "plt.rc('xtick', labelsize=16) \n",
    "plt.rc('ytick', labelsize=16)\n",
    "plt.rc('axes', labelsize=16) \n",
    "# plt.show()\n",
    "plt.savefig('mcar33.png', dpi=300)"
   ]
  },
  {
   "cell_type": "code",
   "execution_count": null,
   "metadata": {},
   "outputs": [],
   "source": [
    "# r squared with filled in value for the mean\n",
    "rSquared_33 = lm.score(X,Y_true)\n",
    "rSquared_33"
   ]
  },
  {
   "cell_type": "code",
   "execution_count": null,
   "metadata": {},
   "outputs": [],
   "source": [
    "mse33Pct = (mean_squared_error(Y_pred,Y_true))\n",
    "print(mse33Pct)\n",
    "mae33Pct = (mean_absolute_error(Y_pred,Y_true))\n",
    "print(mae33Pct)"
   ]
  },
  {
   "cell_type": "code",
   "execution_count": null,
   "metadata": {},
   "outputs": [],
   "source": [
    "# 50%"
   ]
  },
  {
   "cell_type": "code",
   "execution_count": null,
   "metadata": {},
   "outputs": [],
   "source": [
    "# MCAR columns 4 and 7\n",
    "limit = .50\n",
    "for i in range(X.shape[0]):\n",
    "    miss_1 = random.random()\n",
    "    #miss_2 = random.random()\n",
    "    if miss_1 < limit:\n",
    "        X.iloc[i,4] = np.nan\n",
    "    #if miss_2 < limit:\n",
    "     #   X.iloc[i,7] = np.nan\n",
    "\n",
    "#X.shape\n",
    "\n",
    "# Number of NA's in column 4 (NOX)\n",
    "X.loc[X.iloc[:,4].isna(),'NOX'].shape\n",
    "\n",
    "# Substitute NA's with the mean\n",
    "sub = X['NOX'].mean()\n",
    "\n",
    "#X\n",
    "\n",
    "\n",
    "X.loc[X.iloc[:,4].isna(),'NOX'] = sub\n",
    "\n",
    "# Assign sub the mean value of column 7\n",
    "#sub = X['DIS'].mean()\n",
    "\n",
    "#X.loc[X.iloc[:,7].isna(),'DIS'] = sub\n",
    "\n",
    "#X\n",
    "\n",
    "from sklearn.linear_model import LinearRegression\n",
    "\n",
    "lm.fit(X,Y_true)\n",
    "\n",
    "plt.rc('figure', figsize=(6, 6))\n",
    "\n",
    "Y_pred = lm.predict(X)\n",
    "\n",
    "plt.scatter(Y_true, Y_pred)\n",
    "plt.xlabel(\"Prices: $Y_i$\")\n",
    "plt.ylabel(\"Predicted prices: $\\hat{Y}_i$\")\n",
    "# plt.title(\"Prices vs Predicted prices: $Y_i$ vs $\\hat{Y}_i$\")\n",
    "\n",
    "# plt.show()\n",
    "plt.rc('xtick', labelsize=16) \n",
    "plt.rc('ytick', labelsize=16)\n",
    "plt.rc('axes', labelsize=16) \n",
    "\n",
    "plt.savefig('mcar50.png', dpi=300)"
   ]
  },
  {
   "cell_type": "code",
   "execution_count": null,
   "metadata": {},
   "outputs": [],
   "source": [
    "# r squared with filled in value for the mean\n",
    "rSquared_50 = lm.score(X,Y_true)\n",
    "rSquared_50"
   ]
  },
  {
   "cell_type": "code",
   "execution_count": null,
   "metadata": {},
   "outputs": [],
   "source": [
    "mse50Pct = (mean_squared_error(Y_pred,Y_true))\n",
    "print(mse50Pct)\n",
    "mae50Pct = (mean_absolute_error(Y_pred,Y_true))\n",
    "print(mae50Pct)"
   ]
  },
  {
   "cell_type": "code",
   "execution_count": null,
   "metadata": {},
   "outputs": [],
   "source": [
    "# Change in r squared with increasing missing data\n",
    "print(\"r squared values\")\n",
    "print(\"0% missing data (Baseline)\", rSquared_Base)\n",
    "print(\"1% missing Data\", rSquared_1)\n",
    "print(\"5% missing Data\", rSquared_5)\n",
    "print(\"10% missing Data\",rSquared_10)\n",
    "print(\"20% missing Data\",rSquared_20)\n",
    "print(\"33% missing Data\",rSquared_33)\n",
    "print(\"50% missing Data\",rSquared_50)"
   ]
  },
  {
   "cell_type": "code",
   "execution_count": null,
   "metadata": {},
   "outputs": [],
   "source": [
    "# Change in MSE with increasing missing data\n",
    "print(\"MCAR MSE scores compared to baseline\")\n",
    "print(\"0% missing data (Baseline)\", mseBase)\n",
    "print(\"1% missing Data\", mse1Pct)\n",
    "print(\"5% missing Data\", mse5Pct)\n",
    "print(\"10% missing data\", mse10Pct)\n",
    "print(\"20% missing Data\",mse20Pct)\n",
    "print(\"33% missing Data\",mse33Pct)\n",
    "print(\"50% missing Data\",mse50Pct)"
   ]
  },
  {
   "cell_type": "code",
   "execution_count": null,
   "metadata": {},
   "outputs": [],
   "source": [
    "# Change in MAE with increasing missing data\n",
    "print(\"MCAR Mean Absolute Error scores compared to baseline\")\n",
    "print(\"0% missing data (Baseline)\", maeBase)\n",
    "print(\"1% missing Data\", mae1Pct)\n",
    "print(\"5% missing Data\", mae5Pct)\n",
    "print(\"10% missing data\", mae10Pct)\n",
    "print(\"20% missing Data\",mae20Pct)\n",
    "print(\"33% missing Data\",mae33Pct)\n",
    "print(\"50% missing Data\",mae50Pct)"
   ]
  },
  {
   "cell_type": "code",
   "execution_count": null,
   "metadata": {},
   "outputs": [],
   "source": [
    "results=pd.DataFrame()\n",
    "results[\"Missing Percent\"]=[\"0%\",\"1%\",\"5%\",\"10%\",\"20%\",\"33%\",\"50%\"]\n",
    "results[\"R-squared Value\"]=[0.7406077428649428,0.7411720289240704,0.7423381569139282,0.7371002976714791,0.733302316393921,0.7303593574373863,0.7292162781155465]\n",
    "results[\"MSE Scores\"]=[21.897779217687496,21.85014243903083,21.751698431705748,22.19387618416177,22.514500077902657,22.762943366799135,22.859441615800144]\n",
    "results[\"MAE Scores\"]=[3.2729446379969342,3.2700766912445407,3.264413684584658,3.2774589781104932,3.2893156252721663,3.304949028207812,3.3263520482511675]\n",
    "results\n",
    "\n",
    "results.to_excel('s2results.xlsx')"
   ]
  },
  {
   "cell_type": "code",
   "execution_count": null,
   "metadata": {
    "scrolled": true
   },
   "outputs": [],
   "source": [
    "import matplotlib.pyplot as plt\n",
    "\n",
    "plt.rc('figure', figsize=(12, 6))\n",
    "\n",
    "plt.bar(np.arange(len(results[\"R-squared Value\"])),results[\"R-squared Value\"])\n",
    "plt.xticks(np.arange(len(results[\"R-squared Value\"])),results[\"Missing Percent\"])\n",
    "plt.ylim(.7,.76)\n",
    "plt.xlabel(\"Missing Percentage\")\n",
    "plt.ylabel(\"R-squared Value\")\n",
    "# plt.title(\"R-squared Value by Missing Percentage\")\n",
    "\n",
    "plt.rc('xtick', labelsize=24) \n",
    "plt.rc('ytick', labelsize=24)\n",
    "plt.rc('axes', labelsize=24) \n",
    "\n",
    "plt.savefig('rsv.png', dpi=300)"
   ]
  },
  {
   "cell_type": "code",
   "execution_count": null,
   "metadata": {},
   "outputs": [],
   "source": [
    "plt.rc('figure', figsize=(12, 6))\n",
    "\n",
    "plt.bar(np.arange(len(results[\"R-squared Value\"])),results[\"MAE Scores\"])\n",
    "plt.xticks(np.arange(len(results[\"R-squared Value\"])),results[\"Missing Percent\"])\n",
    "plt.ylim(3,3.4)\n",
    "plt.xlabel(\"Missing Percentage\")\n",
    "plt.ylabel(\"MAE Score\")\n",
    "# plt.title(\"MAE Score by Missing Percentage\")\n",
    "\n",
    "plt.rc('xtick', labelsize=24) \n",
    "plt.rc('ytick', labelsize=24)\n",
    "plt.rc('axes', labelsize=24) \n",
    "\n",
    "plt.savefig('mae.png', dpi=300)"
   ]
  },
  {
   "cell_type": "code",
   "execution_count": null,
   "metadata": {},
   "outputs": [],
   "source": [
    "plt.rc('figure', figsize=(12, 6))\n",
    "\n",
    "plt.bar(np.arange(len(results[\"R-squared Value\"])),results[\"MSE Scores\"])\n",
    "plt.xticks(np.arange(len(results[\"R-squared Value\"])),results[\"Missing Percent\"])\n",
    "plt.ylim(21,23)\n",
    "plt.xlabel(\"Missing Percentage\")\n",
    "plt.ylabel(\"MSE Score\")\n",
    "# plt.title(\"MSE Score by Missing Percentage\")\n",
    "\n",
    "plt.rc('xtick', labelsize=24) \n",
    "plt.rc('ytick', labelsize=24)\n",
    "plt.rc('axes', labelsize=24)\n",
    "\n",
    "plt.savefig('mse.png', dpi=300)"
   ]
  },
  {
   "cell_type": "markdown",
   "metadata": {},
   "source": [
    "Step 3: Take 2 different columns and create data “Missing at Random” when controlled for a third variable (i.e if Variable Z is > 30, than Variables X, Y are randomly missing).  Make runs with 10%, 20% and 30% missing data imputed via your best guess.  Repeat your fit and comparisons to the baseline."
   ]
  },
  {
   "cell_type": "code",
   "execution_count": null,
   "metadata": {},
   "outputs": [],
   "source": [
    "# 10%"
   ]
  },
  {
   "cell_type": "code",
   "execution_count": null,
   "metadata": {},
   "outputs": [],
   "source": [
    "# MAR columns 9 (TAX) and 10 (PTRATIO) based on CRIM >3.467\n",
    "limit = .10\n",
    "for i in range(X.shape[0]):\n",
    "    miss_1 = random.random()\n",
    "    miss_2 = random.random()\n",
    "    if miss_1 < limit and X.iloc[i,0] > 3.647:\n",
    "        X.iloc[i,9] = np.nan\n",
    "    if miss_2 < limit and X.iloc[i,0] > 3.647:\n",
    "        X.iloc[i,10] = np.nan\n",
    "\n",
    "X.shape"
   ]
  },
  {
   "cell_type": "code",
   "execution_count": null,
   "metadata": {},
   "outputs": [],
   "source": [
    "# impute missing data in the TAX and PTRATIO columns based on the crime rate (CRIM) being greater than 3.647\n",
    "# Number of NA's in column 9 (NOX)\n",
    "X.loc[X.iloc[:,9].isna(),'TAX'].shape\n",
    "\n",
    "# Substitute NA's with the mean\n",
    "sub = X['TAX'].mean()"
   ]
  },
  {
   "cell_type": "code",
   "execution_count": null,
   "metadata": {},
   "outputs": [],
   "source": [
    "X.loc[X.iloc[:,9].isna(),'TAX'] = sub\n",
    "\n",
    "# Assign sub the mean value of column 10\n",
    "sub = X['PTRATIO'].mean()\n",
    "\n",
    "X.loc[X.iloc[:,10].isna(),'PTRATIO'] = sub\n",
    "\n",
    "# Verify the NaN's are filled in correctly\n",
    "X"
   ]
  },
  {
   "cell_type": "code",
   "execution_count": null,
   "metadata": {
    "scrolled": true
   },
   "outputs": [],
   "source": [
    "lm.fit(X,Y_true)\n",
    "\n",
    "Y_pred = lm.predict(X)\n",
    "\n",
    "plt.rc('figure', figsize=(6, 6))\n",
    "\n",
    "plt.scatter(Y_true, Y_pred)\n",
    "plt.xlabel(\"Prices: $Y_i$\")\n",
    "plt.ylabel(\"Predicted prices: $\\hat{Y}_i$\")\n",
    "# plt.title(\"Prices vs Predicted prices: $Y_i$ vs $\\hat{Y}_i$\")\n",
    "\n",
    "# plt.show()\n",
    "\n",
    "plt.rc('xtick', labelsize=18) \n",
    "plt.rc('ytick', labelsize=18)\n",
    "plt.rc('axes', labelsize=18) \n",
    "\n",
    "plt.savefig('s3mcar10.png', dpi=300)"
   ]
  },
  {
   "cell_type": "code",
   "execution_count": null,
   "metadata": {},
   "outputs": [],
   "source": [
    "rSquared_MAR_10 = lm.score(X,Y_true)\n",
    "rSquared_MAR_10"
   ]
  },
  {
   "cell_type": "code",
   "execution_count": null,
   "metadata": {},
   "outputs": [],
   "source": [
    "mse_MAR10Pct = (mean_squared_error(Y_pred,Y_true))\n",
    "print(mse_MAR10Pct)\n",
    "mae_MAR10Pct = (mean_absolute_error(Y_pred,Y_true))\n",
    "print(mae_MAR10Pct)"
   ]
  },
  {
   "cell_type": "code",
   "execution_count": null,
   "metadata": {},
   "outputs": [],
   "source": [
    "# 20%"
   ]
  },
  {
   "cell_type": "code",
   "execution_count": null,
   "metadata": {},
   "outputs": [],
   "source": [
    "# MAR columns 9 (TAX) and 10 (PTRATIO) based on CRIM >3.467\n",
    "limit = .20\n",
    "for i in range(X.shape[0]):\n",
    "    miss_1 = random.random()\n",
    "    miss_2 = random.random()\n",
    "    if miss_1 < limit and X.iloc[i,0] > 3.647:\n",
    "        X.iloc[i,9] = np.nan\n",
    "    if miss_2 < limit and X.iloc[i,0] > 3.647:\n",
    "        X.iloc[i,10] = np.nan\n",
    "\n",
    "#X.shape\n",
    "\n",
    "# Number of NA's in column 9 (NOX)\n",
    "X.loc[X.iloc[:,9].isna(),'TAX'].shape\n",
    "\n",
    "# Substitute NA's with the mean\n",
    "sub = X['TAX'].mean()\n",
    "\n",
    "#X\n",
    "\n",
    "\n",
    "X.loc[X.iloc[:,9].isna(),'TAX'] = sub\n",
    "\n",
    "# Assign sub the mean value of column 10\n",
    "sub = X['PTRATIO'].mean()\n",
    "\n",
    "X.loc[X.iloc[:,10].isna(),'PTRATIO'] = sub\n",
    "\n",
    "#X\n",
    "\n",
    "from sklearn.linear_model import LinearRegression\n",
    "\n",
    "lm.fit(X,Y_true)\n",
    "\n",
    "plt.rc('figure', figsize=(6, 6))\n",
    "\n",
    "Y_pred = lm.predict(X)\n",
    "\n",
    "plt.scatter(Y_true, Y_pred)\n",
    "plt.xlabel(\"Prices: $Y_i$\")\n",
    "plt.ylabel(\"Predicted prices: $\\hat{Y}_i$\")\n",
    "# plt.title(\"Prices vs Predicted prices: $Y_i$ vs $\\hat{Y}_i$\")\n",
    "\n",
    "# plt.show()\n",
    "\n",
    "plt.rc('xtick', labelsize=16) \n",
    "plt.rc('ytick', labelsize=16)\n",
    "plt.rc('axes', labelsize=16) \n",
    "\n",
    "plt.savefig('s3mcar20.png', dpi=300)"
   ]
  },
  {
   "cell_type": "code",
   "execution_count": null,
   "metadata": {},
   "outputs": [],
   "source": [
    "rSquared_MAR_20 = lm.score(X,Y_true)\n",
    "rSquared_MAR_20"
   ]
  },
  {
   "cell_type": "code",
   "execution_count": null,
   "metadata": {},
   "outputs": [],
   "source": [
    "mse_MAR20Pct = (mean_squared_error(Y_pred,Y_true))\n",
    "print(mse_MAR20Pct)\n",
    "mae_MAR20Pct = (mean_absolute_error(Y_pred,Y_true))\n",
    "print(mae_MAR20Pct)"
   ]
  },
  {
   "cell_type": "code",
   "execution_count": null,
   "metadata": {},
   "outputs": [],
   "source": [
    "# 30%"
   ]
  },
  {
   "cell_type": "code",
   "execution_count": null,
   "metadata": {},
   "outputs": [],
   "source": [
    "# MAR columns 9 (TAX) and 10 (PTRATIO) based on CRIM >3.467\n",
    "limit = .30\n",
    "for i in range(X.shape[0]):\n",
    "    miss_1 = random.random()\n",
    "    miss_2 = random.random()\n",
    "    if miss_1 < limit and X.iloc[i,0] > 3.647:\n",
    "        X.iloc[i,9] = np.nan\n",
    "    if miss_2 < limit and X.iloc[i,0] > 3.647:\n",
    "        X.iloc[i,10] = np.nan\n",
    "\n",
    "#X.shape\n",
    "\n",
    "# Number of NA's in column 9 (NOX)\n",
    "X.loc[X.iloc[:,9].isna(),'TAX'].shape\n",
    "\n",
    "# Substitute NA's with the mean\n",
    "sub = X['TAX'].mean()\n",
    "\n",
    "#X\n",
    "\n",
    "\n",
    "X.loc[X.iloc[:,9].isna(),'TAX'] = sub\n",
    "\n",
    "# Assign sub the mean value of column 10\n",
    "sub = X['PTRATIO'].mean()\n",
    "\n",
    "X.loc[X.iloc[:,10].isna(),'PTRATIO'] = sub\n",
    "\n",
    "#X\n",
    "\n",
    "from sklearn.linear_model import LinearRegression\n",
    "\n",
    "lm.fit(X,Y_true)\n",
    "\n",
    "plt.rc('figure', figsize=(6, 6))\n",
    "\n",
    "Y_pred = lm.predict(X)\n",
    "\n",
    "plt.scatter(Y_true, Y_pred)\n",
    "plt.xlabel(\"Prices: $Y_i$\")\n",
    "plt.ylabel(\"Predicted prices: $\\hat{Y}_i$\")\n",
    "# plt.title(\"Prices vs Predicted prices: $Y_i$ vs $\\hat{Y}_i$\")\n",
    "\n",
    "# plt.show()\n",
    "plt.rc('xtick', labelsize=16) \n",
    "plt.rc('ytick', labelsize=16)\n",
    "plt.rc('axes', labelsize=16) \n",
    "\n",
    "plt.savefig('s3mcar30.png', dpi=300)"
   ]
  },
  {
   "cell_type": "code",
   "execution_count": null,
   "metadata": {},
   "outputs": [],
   "source": [
    "rSquared_MAR_30 = lm.score(X,Y_true)\n",
    "rSquared_MAR_30"
   ]
  },
  {
   "cell_type": "code",
   "execution_count": null,
   "metadata": {},
   "outputs": [],
   "source": [
    "mse_MAR30Pct = (mean_squared_error(Y_pred,Y_true))\n",
    "print(mse_MAR30Pct)\n",
    "mae_MAR30Pct = (mean_absolute_error(Y_pred,Y_true))\n",
    "print(mae_MAR30Pct)"
   ]
  },
  {
   "cell_type": "code",
   "execution_count": null,
   "metadata": {},
   "outputs": [],
   "source": [
    "# look at differences\n",
    "print(\"r squared values where crime rate > 3.647 missing at random\")\n",
    "print(\"0% missing data (Baseline)\", rSquared_Base)\n",
    "print(\"10% missing Data\",rSquared_MAR_10)\n",
    "print(\"20% missing Data\",rSquared_MAR_20)\n",
    "print(\"30% missing Data\",rSquared_MAR_30)"
   ]
  },
  {
   "cell_type": "code",
   "execution_count": null,
   "metadata": {},
   "outputs": [],
   "source": [
    "print(\"MAR MSE scores compared to baseline\")\n",
    "print(\"0% missing data (Baseline)\", mseBase)\n",
    "print(\"10% missing data\", mse_MAR10Pct)\n",
    "print(\"20% missing Data\",mse_MAR20Pct)\n",
    "print(\"30% missing Data\",mse_MAR30Pct)"
   ]
  },
  {
   "cell_type": "code",
   "execution_count": null,
   "metadata": {},
   "outputs": [],
   "source": [
    "print(\"MAR Mean Absolute Error scores compared to baseline\")\n",
    "print(\"0% missing data (Baseline)\", maeBase)\n",
    "print(\"10% missing data\", mae_MAR10Pct)\n",
    "print(\"20% missing Data\",mae_MAR20Pct)\n",
    "print(\"30% missing Data\",mae_MAR30Pct)"
   ]
  },
  {
   "cell_type": "code",
   "execution_count": null,
   "metadata": {},
   "outputs": [],
   "source": [
    "step3_results=pd.DataFrame()\n",
    "step3_results[\"Missing Percent\"]=[\"0%\",\"10%\",\"20%\",\"30%\"]\n",
    "step3_results[\"R-squared Value\"]=[0.7406,0.7282,0.7255,0.7324]\n",
    "step3_results[\"MSE Score\"]=[21.89,22.94,23.16,22.58]\n",
    "step3_results[\"Mae Score\"]=[3.27,3.32,3.34,3.30]\n",
    "step3_results\n",
    "\n",
    "step3_results.to_excel('s3results.xlsx')"
   ]
  },
  {
   "cell_type": "markdown",
   "metadata": {},
   "source": [
    "Step 4:  Create a Missing Not at Random pattern in which 25% of the data is missing for a single column.    Impute your data, fit the results and compare to a baseline."
   ]
  },
  {
   "cell_type": "code",
   "execution_count": null,
   "metadata": {},
   "outputs": [],
   "source": [
    "# Missing not at random 25 % of data for 1 column\n",
    "X.loc[X.AGE <= 45.025, 'RM'] = np.nan\n",
    "\n",
    "X.describe()"
   ]
  },
  {
   "cell_type": "code",
   "execution_count": null,
   "metadata": {},
   "outputs": [],
   "source": [
    "# Impute the 25% quantile for RM (5.885500)\n",
    "# Number of NA's in column\n",
    "X.loc[X.iloc[:,5].isna(),'RM'].shape\n",
    "\n",
    "#X.loc[X.iloc[:,9].isna(),'TAX'] = sub"
   ]
  },
  {
   "cell_type": "code",
   "execution_count": null,
   "metadata": {},
   "outputs": [],
   "source": [
    "# Assigning the 25% quartile value of RM to NaN's\n",
    "# Substitute NA's with the mean\n",
    "sub1 = X['RM'].mean()\n",
    "sub1"
   ]
  },
  {
   "cell_type": "code",
   "execution_count": null,
   "metadata": {},
   "outputs": [],
   "source": [
    "sub2 = sub1 - 5.885500\n",
    "sub2"
   ]
  },
  {
   "cell_type": "code",
   "execution_count": null,
   "metadata": {},
   "outputs": [],
   "source": [
    "sub = sub1 - sub2\n",
    "sub"
   ]
  },
  {
   "cell_type": "code",
   "execution_count": null,
   "metadata": {},
   "outputs": [],
   "source": [
    "# Fill in the NaN's with the sub value of 5.8855\n",
    "X.loc[X.iloc[:,5].isna(),'RM'] = sub\n",
    "X"
   ]
  },
  {
   "cell_type": "code",
   "execution_count": null,
   "metadata": {},
   "outputs": [],
   "source": [
    "# Fit the regressor\n",
    "lm.fit(X,Y_true)\n",
    "\n",
    "Y_pred = lm.predict(X)\n",
    "\n",
    "plt.rc('figure', figsize=(6, 6))\n",
    "\n",
    "plt.scatter(Y_true, Y_pred)\n",
    "plt.xlabel(\"Prices: $Y_i$\")\n",
    "plt.ylabel(\"Predicted prices: $\\hat{Y}_i$\")\n",
    "# plt.title(\"Prices vs Predicted prices: $Y_i$ vs $\\hat{Y}_i$\")\n",
    "\n",
    "# plt.show()\n",
    "\n",
    "plt.rc('xtick', labelsize=16) \n",
    "plt.rc('ytick', labelsize=16)\n",
    "plt.rc('axes', labelsize=16) \n",
    "\n",
    "plt.savefig('s4mcar25.png', dpi=300)"
   ]
  },
  {
   "cell_type": "code",
   "execution_count": null,
   "metadata": {},
   "outputs": [],
   "source": [
    "rSquared_MNAR_25 = lm.score(X,Y_true)\n",
    "rSquared_MNAR_25"
   ]
  },
  {
   "cell_type": "code",
   "execution_count": null,
   "metadata": {},
   "outputs": [],
   "source": [
    "mse_MNAR25Pct = (mean_squared_error(Y_pred,Y_true))\n",
    "print(mse_MNAR25Pct)\n",
    "mae_MNAR25Pct = (mean_absolute_error(Y_pred,Y_true))\n",
    "print(mae_MNAR25Pct)"
   ]
  },
  {
   "cell_type": "code",
   "execution_count": null,
   "metadata": {},
   "outputs": [],
   "source": [
    "print(\"MNAR situation where RM is dependant on AGE\")\n",
    "print(\"0% missing data (Baseline)\", rSquared_Base)\n",
    "print(\"25% missing data\", rSquared_MNAR_25)"
   ]
  },
  {
   "cell_type": "code",
   "execution_count": null,
   "metadata": {},
   "outputs": [],
   "source": [
    "print(\"MNAR MSE scores compared to baseline\")\n",
    "print(\"0% missing data (Baseline)\", mseBase)\n",
    "print(\"25% missing data\", mse_MNAR25Pct)"
   ]
  },
  {
   "cell_type": "code",
   "execution_count": null,
   "metadata": {},
   "outputs": [],
   "source": [
    "print(\"MNAR mean absolute error scores compared to baseline\")\n",
    "print(\"0% missing data (Baseline)\", maeBase)\n",
    "print(\"25% missing data\", mae_MNAR25Pct)"
   ]
  },
  {
   "cell_type": "code",
   "execution_count": null,
   "metadata": {},
   "outputs": [],
   "source": [
    "step4_results=pd.DataFrame()\n",
    "step4_results[\"Missing Percent\"]=[\"0%\",\"25%\"]\n",
    "step4_results[\"R-squared Value\"]=[0.7406,0.6934]\n",
    "step4_results[\"MSE Score\"]=[21.8948,25.8856]\n",
    "step4_results[\"Mae Score\"]=[3.2709,3.6428]\n",
    "step4_results\n",
    "\n",
    "s4 = step4_results.to_excel('s4results.xlsx')"
   ]
  },
  {
   "cell_type": "markdown",
   "metadata": {},
   "source": [
    "Step 5 (Extra Credit) (10 points):  Using the MCMC method, and your data from step 4, What is the difference in performance between imputation via ‘guess’ (mean/median, etc) and MCMC. "
   ]
  },
  {
   "cell_type": "code",
   "execution_count": null,
   "metadata": {},
   "outputs": [],
   "source": [
    "X.loc[X.AGE <= 45.025, 'RM'] = np.nan"
   ]
  },
  {
   "cell_type": "code",
   "execution_count": null,
   "metadata": {},
   "outputs": [],
   "source": [
    "X['PRICE'] = boston.target"
   ]
  },
  {
   "cell_type": "code",
   "execution_count": null,
   "metadata": {},
   "outputs": [],
   "source": [
    "s5 = X.to_excel('s5.xlsx')"
   ]
  },
  {
   "cell_type": "code",
   "execution_count": null,
   "metadata": {
    "scrolled": true
   },
   "outputs": [],
   "source": [
    "file = r's5.xlsx'\n",
    "s5 = pd.read_excel(file)"
   ]
  },
  {
   "cell_type": "code",
   "execution_count": null,
   "metadata": {},
   "outputs": [],
   "source": [
    "s5_imp = r's5_imp.xlsx'\n",
    "s5_imp = pd.read_excel(s5_imp)"
   ]
  },
  {
   "cell_type": "code",
   "execution_count": null,
   "metadata": {},
   "outputs": [],
   "source": [
    "s5_imp1 = s5_imp.loc[s5_imp._Imputation_==1]"
   ]
  },
  {
   "cell_type": "code",
   "execution_count": null,
   "metadata": {},
   "outputs": [],
   "source": [
    "s5_imp1 = s5_imp1.drop(labels=['_Imputation_','A'], axis=1)"
   ]
  },
  {
   "cell_type": "code",
   "execution_count": null,
   "metadata": {},
   "outputs": [],
   "source": [
    "L = s5_imp1.pop('PRICE').values\n",
    "M = s5_imp1.astype(float)"
   ]
  },
  {
   "cell_type": "code",
   "execution_count": null,
   "metadata": {},
   "outputs": [],
   "source": [
    "# Fit the regressor\n",
    "lm.fit(M,Y_true)\n",
    "\n",
    "L_pred = lm.predict(M)\n",
    "\n",
    "plt.rc('figure', figsize=(6, 6))\n",
    "\n",
    "plt.scatter(Y_true, L_pred)\n",
    "plt.xlabel(\"Prices: $L_i$\")\n",
    "plt.ylabel(\"Predicted prices: $\\hat{L}_i$\")\n",
    "# plt.title(\"Prices vs Predicted prices: $Y_i$ vs $\\hat{Y}_i$\")\n",
    "\n",
    "# plt.show()\n",
    "\n",
    "plt.rc('xtick', labelsize=16) \n",
    "plt.rc('ytick', labelsize=16)\n",
    "plt.rc('axes', labelsize=16) \n",
    "\n",
    "plt.savefig('M1.png', dpi=300)"
   ]
  },
  {
   "cell_type": "code",
   "execution_count": null,
   "metadata": {},
   "outputs": [],
   "source": [
    "rSquared_M1 = lm.score(M,Y_true)\n",
    "rSquared_M1"
   ]
  },
  {
   "cell_type": "code",
   "execution_count": null,
   "metadata": {},
   "outputs": [],
   "source": [
    "mse_M1 = (mean_squared_error(L_pred,Y_true))\n",
    "print(mse_M1)\n",
    "mae_M1 = (mean_absolute_error(L_pred,Y_true))\n",
    "print(mae_M1)"
   ]
  },
  {
   "cell_type": "code",
   "execution_count": null,
   "metadata": {},
   "outputs": [],
   "source": [
    "print(\"MNAR situation where RM is dependant on AGE\")\n",
    "print(\"0% missing data (Baseline)\", rSquared_Base)\n",
    "print(\"25% missing data\", rSquared_MNAR_25)\n",
    "print(\"M1_rSquared\", rSquared_M1)"
   ]
  },
  {
   "cell_type": "code",
   "execution_count": null,
   "metadata": {},
   "outputs": [],
   "source": [
    "print(\"MNAR MSE scores compared to baseline\")\n",
    "print(\"0% missing data (Baseline)\", mseBase)\n",
    "print(\"25% missing data\", mse_MNAR25Pct)\n",
    "print(\"M1_MSE\", mse_M1)"
   ]
  },
  {
   "cell_type": "code",
   "execution_count": null,
   "metadata": {},
   "outputs": [],
   "source": [
    "print(\"MNAR MAE scores compared to baseline\")\n",
    "print(\"0% missing data\", maeBase)\n",
    "print(\"25% missing data\", mae_MNAR25Pct)\n",
    "print(\"M1_MAE\", mae_M1)"
   ]
  },
  {
   "cell_type": "code",
   "execution_count": null,
   "metadata": {},
   "outputs": [],
   "source": []
  },
  {
   "cell_type": "code",
   "execution_count": null,
   "metadata": {},
   "outputs": [],
   "source": [
    "X['RM'] = X.RM.fillna(X.RM.mean())"
   ]
  },
  {
   "cell_type": "code",
   "execution_count": null,
   "metadata": {},
   "outputs": [],
   "source": [
    "Y = X.pop('PRICE').values\n",
    "X= X.astype(float)"
   ]
  },
  {
   "cell_type": "code",
   "execution_count": null,
   "metadata": {},
   "outputs": [],
   "source": [
    "# Fit the regressor\n",
    "lm.fit(X,Y_true)\n",
    "\n",
    "L_pred = lm.predict(X)\n",
    "\n",
    "plt.rc('figure', figsize=(6, 6))\n",
    "\n",
    "plt.scatter(Y_true, Y_pred)\n",
    "plt.xlabel(\"Prices: $Y_i$\")\n",
    "plt.ylabel(\"Predicted prices: $\\hat{Y}_i$\")\n",
    "# plt.title(\"Prices vs Predicted prices: $Y_i$ vs $\\hat{Y}_i$\")\n",
    "\n",
    "# plt.show()\n",
    "\n",
    "plt.rc('xtick', labelsize=16) \n",
    "plt.rc('ytick', labelsize=16)\n",
    "plt.rc('axes', labelsize=16) \n",
    "\n",
    "plt.savefig('Y1.png', dpi=300)"
   ]
  },
  {
   "cell_type": "code",
   "execution_count": null,
   "metadata": {},
   "outputs": [],
   "source": [
    "rSquared_X1 = lm.score(X,Y_true)\n",
    "rSquared_X1"
   ]
  },
  {
   "cell_type": "markdown",
   "metadata": {},
   "source": [
    "#### SAS code for MI imputation\n",
    "\n",
    "proc import datafile='/home/shanqingg1/s5.xlsx'\n",
    "\n",
    "out = s5 DBMS=xlsx  REPLACE; GETNAMES=YES;\n",
    "\n",
    "run;\n",
    "\n",
    "ods select misspattern;\n",
    "\n",
    "proc mi data=s5 nimpute=0;\n",
    "\n",
    "      var rm crim zn indus chas;\n",
    "      \n",
    "run;\n",
    "\n",
    "proc mi data=s5 out=s5_impute seed=335467 nimpute=5;\n",
    "\n",
    "     var rm crim zn indus chas ;\n",
    "     \n",
    "run;\n",
    "\n",
    "proc export data=s5_impute \n",
    "\n",
    "outfile='/home/shanqingg1/s5_imp.xlsx' dbms=xlsx \n",
    "\n",
    "replace; \n",
    "\n",
    "run;"
   ]
  },
  {
   "cell_type": "code",
   "execution_count": null,
   "metadata": {},
   "outputs": [],
   "source": [
    "## The end of case study 5 (Units 9 and 10) ##"
   ]
  }
 ],
 "metadata": {
  "kernelspec": {
   "display_name": "Python 3",
   "language": "python",
   "name": "python3"
  },
  "language_info": {
   "codemirror_mode": {
    "name": "ipython",
    "version": 3
   },
   "file_extension": ".py",
   "mimetype": "text/x-python",
   "name": "python",
   "nbconvert_exporter": "python",
   "pygments_lexer": "ipython3",
   "version": "3.6.8"
  }
 },
 "nbformat": 4,
 "nbformat_minor": 2
}
