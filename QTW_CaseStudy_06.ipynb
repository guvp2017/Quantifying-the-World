{
 "cells": [
  {
   "cell_type": "markdown",
   "metadata": {},
   "source": [
    "Unit 12: Case Study\n",
    "\n",
    "Take a subset of the data and run the neural net presented in class:\n",
    "N can be any number greater than 1 million, but less than 10.5 million (8GB Ram recommended for all the data).\n",
    "\n",
    "data source: https://archive.ics.uci.edu/ml/machine-learning-databases/00280/\n",
    "\n",
    "Work (10 points each)\n",
    "\n",
    "1.\tPick 3 or more different architectures (add/subtract layers+neurons) and run the model + score. \n",
    "2.\tWith those same 3 architectures, run the SAME architecture but with 2 different (from sigmoid) activation functions.  Google the Keras documentation for a look at different available activations. \n",
    "3.\tTake your best model from parts 1&2 and vary the batch size by at least 2 orders of magnitude\n",
    "4.\tTake your best model (score) from parts 1&2 and use 3 different kernel initializers. Use a reasonable batch size.\n",
    "5.\tTake your best results from #3 and try 3 different optimizers. (LMGTFY)\n",
    "6.\tTake all that you’ve learned so far and give your best shot at producing a score. \n",
    "\n",
    "Questions to be  answered (These are loaded questions—be warned they are there to test your understanding):\n",
    "\n",
    "10 points - Q1: What was the effect of adding more layers/neurons.\n",
    "10 points - Q2: Which parameters gave you the best result and why (in your opinion) did they work.\n",
    "20 points Q3: For #6, how did you decide that your model was ‘done’\n"
   ]
  },
  {
   "cell_type": "code",
   "execution_count": 1,
   "metadata": {},
   "outputs": [
    {
     "name": "stderr",
     "output_type": "stream",
     "text": [
      "Using TensorFlow backend.\n"
     ]
    }
   ],
   "source": [
    "import numpy as np\n",
    "import pandas as pd\n",
    "import keras\n",
    "import time, pickle\n",
    "\n",
    "from sklearn.model_selection import train_test_split\n",
    "from sklearn.metrics import roc_auc_score, roc_curve, auc\n",
    "\n",
    "from keras import backend as K\n",
    "from keras import regularizers, optimizers\n",
    "\n",
    "from keras.models import Sequential, load_model\n",
    "from keras.layers import  Dense, Activation, Flatten, Dropout, BatchNormalization\n",
    "from keras.layers import Conv2D, MaxPooling2D\n",
    "from keras.layers.noise import GaussianNoise\n",
    "from keras.utils import np_utils \n",
    "from kerutils import *\n",
    "from keras.preprocessing.image import ImageDataGenerator\n",
    "from keras.optimizers import SGD\n",
    "from keras.callbacks import LearningRateScheduler\n",
    "from keras.constraints import maxnorm\n",
    "\n",
    "from matplotlib import pyplot as plt\n",
    "from scipy.misc import imread, imresize\n",
    "from PIL import Image\n",
    "\n",
    "%matplotlib inline"
   ]
  },
  {
   "cell_type": "code",
   "execution_count": 2,
   "metadata": {},
   "outputs": [],
   "source": [
    "N=10500000. ## Change this line adjust the number of rows. \n",
    "data=pd.read_csv(\"HIGGS.csv\",nrows=N,header=None)\n",
    "test_data=pd.read_csv(\"HIGGS.csv\",nrows=500000,header=None,skiprows=10500000)"
   ]
  },
  {
   "cell_type": "code",
   "execution_count": null,
   "metadata": {},
   "outputs": [],
   "source": [
    "from keras.models import Sequential\n",
    "from keras.layers.core import Dense, Dropout, Activation\n",
    "from keras.optimizers import SGD\n",
    "from sklearn.metrics import roc_auc_score"
   ]
  },
  {
   "cell_type": "code",
   "execution_count": null,
   "metadata": {},
   "outputs": [],
   "source": [
    "## 1. Pick 3 or more different architectures (add/subtract layers+neurons) and run the model + score"
   ]
  },
  {
   "cell_type": "code",
   "execution_count": 5,
   "metadata": {},
   "outputs": [
    {
     "name": "stdout",
     "output_type": "stream",
     "text": [
      "WARNING:tensorflow:From C:\\Users\\shanq\\Miniconda3\\envs\\tensorflow-gpu\\lib\\site-packages\\tensorflow\\python\\framework\\op_def_library.py:263: colocate_with (from tensorflow.python.framework.ops) is deprecated and will be removed in a future version.\n",
      "Instructions for updating:\n",
      "Colocations handled automatically by placer.\n",
      "WARNING:tensorflow:From C:\\Users\\shanq\\Miniconda3\\envs\\tensorflow-gpu\\lib\\site-packages\\keras\\backend\\tensorflow_backend.py:3445: calling dropout (from tensorflow.python.ops.nn_ops) with keep_prob is deprecated and will be removed in a future version.\n",
      "Instructions for updating:\n",
      "Please use `rate` instead of `keep_prob`. Rate should be set to `rate = 1 - keep_prob`.\n",
      "_________________________________________________________________\n",
      "Layer (type)                 Output Shape              Param #   \n",
      "=================================================================\n",
      "dense_1 (Dense)              (None, 50)                1450      \n",
      "_________________________________________________________________\n",
      "activation_1 (Activation)    (None, 50)                0         \n",
      "_________________________________________________________________\n",
      "dropout_1 (Dropout)          (None, 50)                0         \n",
      "_________________________________________________________________\n",
      "dense_2 (Dense)              (None, 1)                 51        \n",
      "_________________________________________________________________\n",
      "activation_2 (Activation)    (None, 1)                 0         \n",
      "=================================================================\n",
      "Total params: 1,501\n",
      "Trainable params: 1,501\n",
      "Non-trainable params: 0\n",
      "_________________________________________________________________\n",
      "None\n",
      "WARNING:tensorflow:From C:\\Users\\shanq\\Miniconda3\\envs\\tensorflow-gpu\\lib\\site-packages\\tensorflow\\python\\ops\\math_ops.py:3066: to_int32 (from tensorflow.python.ops.math_ops) is deprecated and will be removed in a future version.\n",
      "Instructions for updating:\n",
      "Use tf.cast instead.\n",
      "Train on 10500000 samples, validate on 500000 samples\n",
      "Epoch 1/5\n",
      "10500000/10500000 [==============================] - 46s 4us/step - loss: 0.6244 - acc: 0.6480 - val_loss: 0.5932 - val_acc: 0.6839\n",
      "Epoch 2/5\n",
      "10500000/10500000 [==============================] - 41s 4us/step - loss: 0.5972 - acc: 0.6799 - val_loss: 0.5812 - val_acc: 0.6976\n",
      "Epoch 3/5\n",
      "10500000/10500000 [==============================] - 41s 4us/step - loss: 0.5882 - acc: 0.6885 - val_loss: 0.5721 - val_acc: 0.7034\n",
      "Epoch 4/5\n",
      "10500000/10500000 [==============================] - 41s 4us/step - loss: 0.5819 - acc: 0.6940 - val_loss: 0.5689 - val_acc: 0.7092\n",
      "Epoch 5/5\n",
      "10500000/10500000 [==============================] - 42s 4us/step - loss: 0.5779 - acc: 0.6974 - val_loss: 0.5631 - val_acc: 0.7109\n",
      "Training: accuracy   = 0.710098 loss = 0.563667\n",
      "Validation: accuracy = 0.710894 loss = 0.563139\n",
      "Over fitting score   = 0.014688\n",
      "Under fitting score  = 0.019431\n",
      "Params count: 1501\n",
      "stop epoch = 4\n",
      "epochs = 5\n",
      "batch_size = 1000\n",
      "samples = 10500000\n"
     ]
    },
    {
     "data": {
      "image/png": "[encoded data removed]",
      "text/plain": [
       "<Figure size 432x288 with 1 Axes>"
      ]
     },
     "metadata": {
      "needs_background": "light"
     },
     "output_type": "display_data"
    },
    {
     "data": {
      "image/png": "[encoded data removed]",
      "text/plain": [
       "<Figure size 432x288 with 1 Axes>"
      ]
     },
     "metadata": {
      "needs_background": "light"
     },
     "output_type": "display_data"
    }
   ],
   "source": [
    "## 2xlayers, roc_auc_score = 0.7791760135160337\n",
    "epochs = 5\n",
    "batch_size = 1000\n",
    "\n",
    "y = np.array(data.loc[:,0])\n",
    "x = np.array(data.loc[:,1:])\n",
    "x_test = np.array(test_data.loc[:,1:])\n",
    "y_test = np.array(test_data.loc[:,0])\n",
    "\n",
    "model_q1_2 = Sequential()\n",
    "model_q1_2.add(Dense(50, input_dim=x.shape[1], kernel_initializer='uniform')) # X_train.shape[1] == 28 here\n",
    "model_q1_2.add(Activation('sigmoid'))\n",
    "model_q1_2.add(Dropout(0.10))\n",
    "\n",
    "model_q1_2.add(Dense(1, kernel_initializer='uniform')) \n",
    "model_q1_2.add(Activation('sigmoid'))\n",
    "\n",
    "sgd = SGD(lr=0.1, decay=1e-6, momentum=0.9, nesterov=True)\n",
    "model_q1_2.compile(loss='binary_crossentropy', metrics=['accuracy'], optimizer=sgd)\n",
    "print(model_q1_2.summary())\n",
    "\n",
    "h = model_q1_2.fit(\n",
    "    x,\n",
    "    y,\n",
    "    batch_size=batch_size,\n",
    "    epochs=epochs,\n",
    "    validation_data=(x_test, y_test),\n",
    "    shuffle=True\n",
    ")\n",
    "\n",
    "## print('Saving model1 to the file \"model1.h5\"')\n",
    "## model1.save(\"model1.h5\")\n",
    "\n",
    "## model_q1_2.fit(x, y, epochs=5, batch_size=1000)\n",
    "## roc_auc_score(y_test,model_q1_2.predict(x_test))\n",
    "\n",
    "show_scores(model_q1_2, h, x, y, x_test, y_test)"
   ]
  },
  {
   "cell_type": "code",
   "execution_count": 6,
   "metadata": {},
   "outputs": [
    {
     "name": "stdout",
     "output_type": "stream",
     "text": [
      "Epoch 1/5\n",
      "10500000/10500000 [==============================] - 42s 4us/step - loss: 0.6576 - acc: 0.5931\n",
      "Epoch 2/5\n",
      "10500000/10500000 [==============================] - 42s 4us/step - loss: 0.6072 - acc: 0.6669\n",
      "Epoch 3/5\n",
      "10500000/10500000 [==============================] - 42s 4us/step - loss: 0.5887 - acc: 0.6844\n",
      "Epoch 4/5\n",
      "10500000/10500000 [==============================] - 42s 4us/step - loss: 0.5787 - acc: 0.6925\n",
      "Epoch 5/5\n",
      "10500000/10500000 [==============================] - 42s 4us/step - loss: 0.5717 - acc: 0.6985\n"
     ]
    },
    {
     "data": {
      "text/plain": [
       "0.7842208438829523"
      ]
     },
     "execution_count": 6,
     "metadata": {},
     "output_type": "execute_result"
    }
   ],
   "source": [
    "## 3xlayers, roc_auc_score = 0.7807769854026723\n",
    "\n",
    "y = np.array(data.loc[:,0])\n",
    "x = np.array(data.loc[:,1:])\n",
    "x_test = np.array(test_data.loc[:,1:])\n",
    "y_test = np.array(test_data.loc[:,0])\n",
    "\n",
    "model_q1_3 = Sequential()\n",
    "model_q1_3.add(Dense(50, input_dim=x.shape[1], kernel_initializer='uniform')) # X_train.shape[1] == 28 here\n",
    "model_q1_3.add(Activation('sigmoid'))\n",
    "model_q1_3.add(Dropout(0.10))\n",
    "\n",
    "model_q1_3.add(Dense(50, kernel_initializer='uniform'))\n",
    "model_q1_3.add(Activation('sigmoid'))\n",
    "model_q1_3.add(Dropout(0.10))\n",
    "\n",
    "model_q1_3.add(Dense(1, kernel_initializer='uniform')) \n",
    "model_q1_3.add(Activation('sigmoid'))\n",
    "\n",
    "sgd = SGD(lr=0.1, decay=1e-6, momentum=0.9, nesterov=True)\n",
    "model_q1_3.compile(loss='binary_crossentropy', metrics=['accuracy'], optimizer=sgd)\n",
    "\n",
    "model_q1_3.fit(x, y, epochs=5, batch_size=1000)\n",
    "roc_auc_score(y_test,model_q1_3.predict(x_test))"
   ]
  },
  {
   "cell_type": "code",
   "execution_count": 7,
   "metadata": {},
   "outputs": [
    {
     "name": "stdout",
     "output_type": "stream",
     "text": [
      "Epoch 1/5\n",
      "10500000/10500000 [==============================] - 50s 5us/step - loss: 0.6917 - acc: 0.5294\n",
      "Epoch 2/5\n",
      "10500000/10500000 [==============================] - 50s 5us/step - loss: 0.6915 - acc: 0.5299\n",
      "Epoch 3/5\n",
      "10500000/10500000 [==============================] - 50s 5us/step - loss: 0.6914 - acc: 0.5300\n",
      "Epoch 4/5\n",
      "10500000/10500000 [==============================] - 50s 5us/step - loss: 0.6914 - acc: 0.5300\n",
      "Epoch 5/5\n",
      "10500000/10500000 [==============================] - 50s 5us/step - loss: 0.6914 - acc: 0.5300\n"
     ]
    },
    {
     "data": {
      "text/plain": [
       "0.5204590380710665"
      ]
     },
     "execution_count": 7,
     "metadata": {},
     "output_type": "execute_result"
    }
   ],
   "source": [
    "## 5xlayers, roc_auc_score = 0.4442846595315575\n",
    "\n",
    "y = np.array(data.loc[:,0])\n",
    "x = np.array(data.loc[:,1:])\n",
    "x_test = np.array(test_data.loc[:,1:])\n",
    "y_test = np.array(test_data.loc[:,0])\n",
    "\n",
    "model_q1_5 = Sequential()\n",
    "model_q1_5.add(Dense(50, input_dim=x.shape[1], kernel_initializer='uniform')) # X_train.shape[1] == 28 here\n",
    "model_q1_5.add(Activation('sigmoid'))\n",
    "model_q1_5.add(Dropout(0.10))\n",
    "\n",
    "model_q1_5.add(Dense(50, kernel_initializer='uniform'))\n",
    "model_q1_5.add(Activation('sigmoid'))\n",
    "model_q1_5.add(Dropout(0.10))\n",
    "\n",
    "model_q1_5.add(Dense(50, kernel_initializer='uniform'))\n",
    "model_q1_5.add(Activation('sigmoid'))\n",
    "model_q1_5.add(Dropout(0.10))\n",
    "\n",
    "model_q1_5.add(Dense(50, kernel_initializer='uniform'))\n",
    "model_q1_5.add(Activation('sigmoid'))\n",
    "model_q1_5.add(Dropout(0.10))\n",
    "\n",
    "model_q1_5.add(Dense(1, kernel_initializer='uniform')) \n",
    "model_q1_5.add(Activation('sigmoid'))\n",
    "\n",
    "sgd = SGD(lr=0.1, decay=1e-6, momentum=0.9, nesterov=True)\n",
    "model_q1_5.compile(loss='binary_crossentropy', metrics=['accuracy'], optimizer=sgd)\n",
    "\n",
    "model_q1_5.fit(x, y, epochs=5, batch_size=1000)\n",
    "roc_auc_score(y_test,model_q1_5.predict(x_test))"
   ]
  },
  {
   "cell_type": "code",
   "execution_count": 11,
   "metadata": {},
   "outputs": [
    {
     "data": {
      "image/png": "[encoded data removed]",
      "text/plain": [
       "<Figure size 432x288 with 1 Axes>"
      ]
     },
     "metadata": {
      "needs_background": "light"
     },
     "output_type": "display_data"
    }
   ],
   "source": [
    "## from sklearn.metrics import roc_curve, auc\n",
    "y_pred_q1_l2 = model_q1_2.predict(x_test).ravel()\n",
    "fpr_keras_q1_l2, tpr_keras_q1_l2, thresholds_keras_q1_l2 = roc_curve(y_test, y_pred_q1_l2)\n",
    "auc_keras_q1_l2 = auc(fpr_keras_q1_l2, tpr_keras_q1_l2)\n",
    "\n",
    "y_pred_q1_l3 = model_q1_3.predict(x_test).ravel()\n",
    "fpr_keras_q1_l3, tpr_keras_q1_l3, thresholds_keras_q1_l3 = roc_curve(y_test, y_pred_q1_l3)\n",
    "auc_keras_q1_l3 = auc(fpr_keras_q1_l3, tpr_keras_q1_l3)\n",
    "\n",
    "y_pred_q1_l5 = model_q1_5.predict(x_test).ravel()\n",
    "fpr_keras_q1_l5, tpr_keras_q1_l5, thresholds_keras_q1_l5 = roc_curve(y_test, y_pred_q1_l5)\n",
    "auc_keras_q1_l5 = auc(fpr_keras_q1_l5, tpr_keras_q1_l5)\n",
    "\n",
    "plt.figure(1)\n",
    "plt.plot([0, 1], [0, 1], 'k--')\n",
    "plt.plot(fpr_keras_q1_l2, tpr_keras_q1_l2, label='Q1_L2 (area = {:.3f})'.format(auc_keras_q1_l2))\n",
    "plt.plot(fpr_keras_q1_l3, tpr_keras_q1_l3, label='Q1_L3 (area = {:.3f})'.format(auc_keras_q1_l3))\n",
    "plt.plot(fpr_keras_q1_l5, tpr_keras_q1_l5, label='Q1_L5 (area = {:.3f})'.format(auc_keras_q1_l5))\n",
    "plt.xlabel('False positive rate')\n",
    "plt.ylabel('True positive rate')\n",
    "plt.title('ROC curve for different layers')\n",
    "plt.legend(loc='best')\n",
    "plt.show()"
   ]
  },
  {
   "cell_type": "code",
   "execution_count": null,
   "metadata": {},
   "outputs": [],
   "source": [
    "## 2. With those same 3 architectures, run the SAME architecture but with 2 different (from sigmoid) activation functions"
   ]
  },
  {
   "cell_type": "code",
   "execution_count": null,
   "metadata": {},
   "outputs": [],
   "source": [
    "## http://cs231n.github.io/neural-networks-1/"
   ]
  },
  {
   "cell_type": "code",
   "execution_count": null,
   "metadata": {},
   "outputs": [],
   "source": [
    "## 2xlayers, activation ='relu', roc_auc_score = 0.47453227907167295\n",
    "\n",
    "y = np.array(data.loc[:,0])\n",
    "x = np.array(data.loc[:,1:])\n",
    "x_test = np.array(test_data.loc[:,1:])\n",
    "y_test = np.array(test_data.loc[:,0])\n",
    "\n",
    "model_q2_2 = Sequential()\n",
    "model_q2_2.add(Dense(50, input_dim=x.shape[1], kernel_initializer='uniform')) # X_train.shape[1] == 28 here\n",
    "model_q2_2.add(Activation('relu'))\n",
    "model_q2_2.add(Dropout(0.10))\n",
    "\n",
    "model_q2_2.add(Dense(1, kernel_initializer='uniform')) \n",
    "model_q2_2.add(Activation('relu'))\n",
    "\n",
    "sgd = SGD(lr=0.1, decay=1e-6, momentum=0.9, nesterov=True)\n",
    "model_q2_2.compile(loss='binary_crossentropy', metrics=['accuracy'], optimizer=sgd)\n",
    "\n",
    "model_q2_2.fit(x, y, epochs=5, batch_size=1000)\n",
    "roc_auc_score(y_test,model_q2_2.predict(x_test))"
   ]
  },
  {
   "cell_type": "code",
   "execution_count": null,
   "metadata": {},
   "outputs": [],
   "source": [
    "## 3xlayers, activation ='relu', roc_auc_score = 0.46561285961535454\n",
    "\n",
    "y = np.array(data.loc[:,0])\n",
    "x = np.array(data.loc[:,1:])\n",
    "x_test = np.array(test_data.loc[:,1:])\n",
    "y_test = np.array(test_data.loc[:,0])\n",
    "\n",
    "model_q2_3 = Sequential()\n",
    "model_q2_3.add(Dense(50, input_dim=x.shape[1], kernel_initializer='uniform')) # X_train.shape[1] == 28 here\n",
    "model_q2_3.add(Activation('relu'))\n",
    "model_q2_3.add(Dropout(0.10))\n",
    "\n",
    "model_q2_3.add(Dense(50, kernel_initializer='uniform'))\n",
    "model_q2_3.add(Activation('relu'))\n",
    "model_q2_3.add(Dropout(0.10))\n",
    "\n",
    "model_q2_3.add(Dense(1, kernel_initializer='uniform')) \n",
    "model_q2_3.add(Activation('relu'))\n",
    "\n",
    "sgd = SGD(lr=0.1, decay=1e-6, momentum=0.9, nesterov=True)\n",
    "model_q2_3.compile(loss='binary_crossentropy', metrics=['accuracy'], optimizer=sgd)\n",
    "\n",
    "model_q2_3.fit(x, y, epochs=5, batch_size=1000)\n",
    "roc_auc_score(y_test,model_q2_3.predict(x_test))"
   ]
  },
  {
   "cell_type": "code",
   "execution_count": null,
   "metadata": {},
   "outputs": [],
   "source": [
    "## 5xlayers, activation ='relu', roc_auc_score = 0.4642447063750198\n",
    "\n",
    "y = np.array(data.loc[:,0])\n",
    "x = np.array(data.loc[:,1:])\n",
    "x_test = np.array(test_data.loc[:,1:])\n",
    "y_test = np.array(test_data.loc[:,0])\n",
    "\n",
    "model_q2_5 = Sequential()\n",
    "model_q2_5.add(Dense(50, input_dim=x.shape[1], kernel_initializer='uniform')) # X_train.shape[1] == 28 here\n",
    "model_q2_5.add(Activation('relu'))\n",
    "model_q2_5.add(Dropout(0.10))\n",
    "\n",
    "model_q2_5.add(Dense(50, kernel_initializer='uniform'))\n",
    "model_q2_5.add(Activation('relu'))\n",
    "model_q2_5.add(Dropout(0.10))\n",
    "\n",
    "model_q2_5.add(Dense(50, kernel_initializer='uniform'))\n",
    "model_q2_5.add(Activation('relu'))\n",
    "model_q2_5.add(Dropout(0.10))\n",
    "\n",
    "model_q2_5.add(Dense(50, kernel_initializer='uniform'))\n",
    "model_q2_5.add(Activation('relu'))\n",
    "model_q2_5.add(Dropout(0.10))\n",
    "\n",
    "model_q2_5.add(Dense(1, kernel_initializer='uniform')) \n",
    "model_q2_5.add(Activation('relu'))\n",
    "\n",
    "sgd = SGD(lr=0.1, decay=1e-6, momentum=0.9, nesterov=True)\n",
    "model_q2_5.compile(loss='binary_crossentropy', metrics=['accuracy'], optimizer=sgd)\n",
    "\n",
    "model_q2_5.fit(x, y, epochs=5, batch_size=1000)\n",
    "roc_auc_score(y_test, model_q2_5.predict(x_test))"
   ]
  },
  {
   "cell_type": "code",
   "execution_count": null,
   "metadata": {},
   "outputs": [],
   "source": [
    "## 2xlayers, activation ='elu', roc_auc_score =  0.484558208847519\n",
    "\n",
    "y = np.array(data.loc[:,0])\n",
    "x = np.array(data.loc[:,1:])\n",
    "x_test = np.array(test_data.loc[:,1:])\n",
    "y_test = np.array(test_data.loc[:,0])\n",
    "\n",
    "model_q2_2e = Sequential()\n",
    "model_q2_2e.add(Dense(50, input_dim=x.shape[1], kernel_initializer='uniform')) # X_train.shape[1] == 28 here\n",
    "model_q2_2e.add(Activation('elu'))\n",
    "model_q2_2e.add(Dropout(0.10))\n",
    "\n",
    "model_q2_2e.add(Dense(1, kernel_initializer='uniform')) \n",
    "model_q2_2e.add(Activation('elu'))\n",
    "\n",
    "sgd = SGD(lr=0.1, decay=1e-6, momentum=0.9, nesterov=True)\n",
    "model_q2_2e.compile(loss='binary_crossentropy', metrics=['accuracy'], optimizer=sgd)\n",
    "\n",
    "model_q2_2e.fit(x, y, epochs=5, batch_size=1000)\n",
    "roc_auc_score(y_test,model_q2_2e.predict(x_test))"
   ]
  },
  {
   "cell_type": "code",
   "execution_count": null,
   "metadata": {},
   "outputs": [],
   "source": [
    "## 3xlayers, activation ='elu', roc_auc_score = 0.4709237031307237\n",
    "\n",
    "y = np.array(data.loc[:,0])\n",
    "x = np.array(data.loc[:,1:])\n",
    "x_test = np.array(test_data.loc[:,1:])\n",
    "y_test = np.array(test_data.loc[:,0])\n",
    "\n",
    "model_q2_3e = Sequential()\n",
    "model_q2_3e.add(Dense(50, input_dim=x.shape[1], kernel_initializer='uniform')) # X_train.shape[1] == 28 here\n",
    "model_q2_3e.add(Activation('elu'))\n",
    "model_q2_3e.add(Dropout(0.10))\n",
    "\n",
    "model_q2_3e.add(Dense(50, kernel_initializer='uniform'))\n",
    "model_q2_3e.add(Activation('elu'))\n",
    "model_q2_3e.add(Dropout(0.10))\n",
    "\n",
    "model_q2_3e.add(Dense(1, kernel_initializer='uniform')) \n",
    "model_q2_3e.add(Activation('elu'))\n",
    "\n",
    "sgd = SGD(lr=0.1, decay=1e-6, momentum=0.9, nesterov=True)\n",
    "model_q2_3e.compile(loss='binary_crossentropy', metrics=['accuracy'], optimizer=sgd)\n",
    "\n",
    "model_q2_3e.fit(x, y, epochs=5, batch_size=1000)\n",
    "roc_auc_score(y_test,model_q2_3e.predict(x_test))"
   ]
  },
  {
   "cell_type": "code",
   "execution_count": null,
   "metadata": {},
   "outputs": [],
   "source": [
    "## 5xlayers, activation ='elu', roc_auc_score = 0.5\n",
    "\n",
    "y = np.array(data.loc[:,0])\n",
    "x = np.array(data.loc[:,1:])\n",
    "x_test = np.array(test_data.loc[:,1:])\n",
    "y_test = np.array(test_data.loc[:,0])\n",
    "\n",
    "model_q2_5e = Sequential()\n",
    "model_q2_5e.add(Dense(50, input_dim=x.shape[1], kernel_initializer='uniform')) # X_train.shape[1] == 28 here\n",
    "model_q2_5e.add(Activation('elu'))\n",
    "model_q2_5e.add(Dropout(0.10))\n",
    "\n",
    "model_q2_5e.add(Dense(50, kernel_initializer='uniform'))\n",
    "model_q2_5e.add(Activation('elu'))\n",
    "model_q2_5e.add(Dropout(0.10))\n",
    "\n",
    "model_q2_5e.add(Dense(50, kernel_initializer='uniform'))\n",
    "model_q2_5e.add(Activation('elu'))\n",
    "model_q2_5e.add(Dropout(0.10))\n",
    "\n",
    "model_q2_5e.add(Dense(50, kernel_initializer='uniform'))\n",
    "model_q2_5e.add(Activation('elu'))\n",
    "model_q2_5e.add(Dropout(0.10))\n",
    "\n",
    "model_q2_5e.add(Dense(1, kernel_initializer='uniform')) \n",
    "model_q2_5e.add(Activation('elu'))\n",
    "\n",
    "sgd = SGD(lr=0.1, decay=1e-6, momentum=0.9, nesterov=True)\n",
    "model_q2_5e.compile(loss='binary_crossentropy', metrics=['accuracy'], optimizer=sgd)\n",
    "\n",
    "model_q2_5e.fit(x, y, epochs=5, batch_size=1000)\n",
    "roc_auc_score(y_test, model_q2_5e.predict(x_test))"
   ]
  },
  {
   "cell_type": "code",
   "execution_count": null,
   "metadata": {},
   "outputs": [],
   "source": [
    "## 3. Take your best model from parts 1&2 and vary the batch size by at least 2 orders of magnitude"
   ]
  },
  {
   "cell_type": "code",
   "execution_count": null,
   "metadata": {},
   "outputs": [],
   "source": [
    "## 3xlayers, batch_size=1000, roc_auc_score = 0.7788914810564554\n",
    "\n",
    "y = np.array(data.loc[:,0])\n",
    "x = np.array(data.loc[:,1:])\n",
    "x_test = np.array(test_data.loc[:,1:])\n",
    "y_test = np.array(test_data.loc[:,0])\n",
    "\n",
    "model_q3_1k = Sequential()\n",
    "model_q3_1k.add(Dense(50, input_dim=x.shape[1], kernel_initializer='uniform')) # X_train.shape[1] == 28 here\n",
    "model_q3_1k.add(Activation('sigmoid'))\n",
    "model_q3_1k.add(Dropout(0.10))\n",
    "\n",
    "model_q3_1k.add(Dense(50, kernel_initializer='uniform'))\n",
    "model_q3_1k.add(Activation('sigmoid'))\n",
    "model_q3_1k.add(Dropout(0.10))\n",
    "\n",
    "model_q3_1k.add(Dense(1, kernel_initializer='uniform')) \n",
    "model_q3_1k.add(Activation('sigmoid'))\n",
    "\n",
    "sgd = SGD(lr=0.1, decay=1e-6, momentum=0.9, nesterov=True)\n",
    "model_q3_1k.compile(loss='binary_crossentropy', metrics=['accuracy'], optimizer=sgd)\n",
    "\n",
    "model_q3_1k.fit(x, y, epochs=5, batch_size=1000)\n",
    "roc_auc_score(y_test,model_q3_1k.predict(x_test))"
   ]
  },
  {
   "cell_type": "code",
   "execution_count": null,
   "metadata": {},
   "outputs": [],
   "source": [
    "## 3xlayers, batch_size=100000, roc_auc_score: 0.5006365070937373\n",
    "\n",
    "y = np.array(data.loc[:,0])\n",
    "x = np.array(data.loc[:,1:])\n",
    "x_test = np.array(test_data.loc[:,1:])\n",
    "y_test = np.array(test_data.loc[:,0])\n",
    "\n",
    "model_q3_100k = Sequential()\n",
    "model_q3_100k.add(Dense(50, input_dim=x.shape[1], kernel_initializer='uniform')) # X_train.shape[1] == 28 here\n",
    "model_q3_100k.add(Activation('sigmoid'))\n",
    "model_q3_100k.add(Dropout(0.10))\n",
    "\n",
    "model_q3_100k.add(Dense(50, kernel_initializer='uniform'))\n",
    "model_q3_100k.add(Activation('sigmoid'))\n",
    "model_q3_100k.add(Dropout(0.10))\n",
    "\n",
    "model_q3_100k.add(Dense(1, kernel_initializer='uniform')) \n",
    "model_q3_100k.add(Activation('sigmoid'))\n",
    "\n",
    "sgd = SGD(lr=0.1, decay=1e-6, momentum=0.9, nesterov=True)\n",
    "model_q3_1k.compile(loss='binary_crossentropy', metrics=['accuracy'], optimizer=sgd)\n",
    "\n",
    "model_q3_1k.fit(x, y, epochs=5, batch_size=100000)\n",
    "roc_auc_score(y_test,model_q3_100k.predict(x_test))"
   ]
  },
  {
   "cell_type": "code",
   "execution_count": null,
   "metadata": {},
   "outputs": [],
   "source": [
    "## 3xlayers, batch_size=10, roc_auc_score: 0.7807750274417308 (the best)\n",
    "\n",
    "y = np.array(data.loc[:,0])\n",
    "x = np.array(data.loc[:,1:])\n",
    "x_test = np.array(test_data.loc[:,1:])\n",
    "y_test = np.array(test_data.loc[:,0])\n",
    "\n",
    "model_q3_10 = Sequential()\n",
    "model_q3_10.add(Dense(50, input_dim=x.shape[1], kernel_initializer='uniform')) # X_train.shape[1] == 28 here\n",
    "model_q3_10.add(Activation('sigmoid'))\n",
    "model_q3_10.add(Dropout(0.10))\n",
    "\n",
    "model_q3_10.add(Dense(50, kernel_initializer='uniform'))\n",
    "model_q3_10.add(Activation('sigmoid'))\n",
    "model_q3_10.add(Dropout(0.10))\n",
    "\n",
    "model_q3_10.add(Dense(1, kernel_initializer='uniform')) \n",
    "model_q3_10.add(Activation('sigmoid'))\n",
    "\n",
    "sgd = SGD(lr=0.1, decay=1e-6, momentum=0.9, nesterov=True)\n",
    "model_q3_10.compile(loss='binary_crossentropy', metrics=['accuracy'], optimizer=sgd)\n",
    "\n",
    "model_q3_10.fit(x, y, epochs=5, batch_size=10)\n",
    "roc_auc_score(y_test,model_q3_10.predict(x_test))"
   ]
  },
  {
   "cell_type": "code",
   "execution_count": null,
   "metadata": {},
   "outputs": [],
   "source": [
    "## 4. Take your best model (score) from parts 1&2 and use 3 different kernel initializers. Use a reasonable batch size."
   ]
  },
  {
   "cell_type": "code",
   "execution_count": null,
   "metadata": {},
   "outputs": [],
   "source": [
    "## 4 kernel_initializer='uniform', roc_auc_score: 0.7807750274417308\n",
    "\n",
    "y = np.array(data.loc[:,0])\n",
    "x = np.array(data.loc[:,1:])\n",
    "x_test = np.array(test_data.loc[:,1:])\n",
    "y_test = np.array(test_data.loc[:,0])\n",
    "\n",
    "model_q4_u = Sequential()\n",
    "model_q4_u.add(Dense(50, input_dim=x.shape[1], kernel_initializer='uniform')) # X_train.shape[1] == 28 here\n",
    "model_q4_u.add(Activation('sigmoid'))\n",
    "model_q4_u.add(Dropout(0.10))\n",
    "\n",
    "model_q4_u.add(Dense(50, kernel_initializer='uniform'))\n",
    "model_q4_u.add(Activation('sigmoid'))\n",
    "model_q4_u.add(Dropout(0.10))\n",
    "\n",
    "model_q4_u.add(Dense(1, kernel_initializer='uniform')) \n",
    "model_q4_u.add(Activation('sigmoid'))\n",
    "\n",
    "sgd = SGD(lr=0.1, decay=1e-6, momentum=0.9, nesterov=True)\n",
    "model_q4_u.compile(loss='binary_crossentropy', metrics=['accuracy'], optimizer=sgd)\n",
    "\n",
    "model_q4_u.fit(x, y, epochs=5, batch_size=1000)\n",
    "roc_auc_score(y_test,model_q4_u.predict(x_test))"
   ]
  },
  {
   "cell_type": "code",
   "execution_count": null,
   "metadata": {},
   "outputs": [],
   "source": [
    "## 4 kernel_initializer='random_uniform', roc_auc_score: 0.7808735534914519\n",
    "\n",
    "y = np.array(data.loc[:,0])\n",
    "x = np.array(data.loc[:,1:])\n",
    "x_test = np.array(test_data.loc[:,1:])\n",
    "y_test = np.array(test_data.loc[:,0])\n",
    "\n",
    "model_q4_ru = Sequential()\n",
    "model_q4_ru.add(Dense(50, input_dim=x.shape[1], kernel_initializer='random_uniform')) # X_train.shape[1] == 28 here\n",
    "model_q4_ru.add(Activation('sigmoid'))\n",
    "model_q4_ru.add(Dropout(0.10))\n",
    "\n",
    "model_q4_ru.add(Dense(50, kernel_initializer='random_uniform'))\n",
    "model_q4_ru.add(Activation('sigmoid'))\n",
    "model_q4_ru.add(Dropout(0.10))\n",
    "\n",
    "model_q4_ru.add(Dense(1, kernel_initializer='random_uniform')) \n",
    "model_q4_ru.add(Activation('sigmoid'))\n",
    "\n",
    "sgd = SGD(lr=0.1, decay=1e-6, momentum=0.9, nesterov=True)\n",
    "model_q4_ru.compile(loss='binary_crossentropy', metrics=['accuracy'], optimizer=sgd)\n",
    "\n",
    "model_q4_ru.fit(x, y, epochs=5, batch_size=1000)\n",
    "roc_auc_score(y_test,model_q4_ru.predict(x_test))"
   ]
  },
  {
   "cell_type": "code",
   "execution_count": null,
   "metadata": {},
   "outputs": [],
   "source": [
    "## 4 kernel_initializer='normal' roc_auc_score: 0.7820724352084556\n",
    "\n",
    "y = np.array(data.loc[:,0])\n",
    "x = np.array(data.loc[:,1:])\n",
    "x_test = np.array(test_data.loc[:,1:])\n",
    "y_test = np.array(test_data.loc[:,0])\n",
    "\n",
    "model_q4_n = Sequential()\n",
    "model_q4_n.add(Dense(50, input_dim=x.shape[1], kernel_initializer='normal')) # X_train.shape[1] == 28 here\n",
    "model_q4_n.add(Activation('sigmoid'))\n",
    "model_q4_n.add(Dropout(0.10))\n",
    "\n",
    "model_q4_n.add(Dense(50, kernel_initializer='normal'))\n",
    "model_q4_n.add(Activation('sigmoid'))\n",
    "model_q4_n.add(Dropout(0.10))\n",
    "\n",
    "model_q4_n.add(Dense(1, kernel_initializer='normal')) \n",
    "model_q4_n.add(Activation('sigmoid'))\n",
    "\n",
    "sgd = SGD(lr=0.1, decay=1e-6, momentum=0.9, nesterov=True)\n",
    "model_q4_n.compile(loss='binary_crossentropy', metrics=['accuracy'], optimizer=sgd)\n",
    "\n",
    "model_q4_n.fit(x, y, epochs=5, batch_size=1000)\n",
    "roc_auc_score(y_test,model_q4_n.predict(x_test))"
   ]
  },
  {
   "cell_type": "code",
   "execution_count": null,
   "metadata": {},
   "outputs": [],
   "source": [
    "## 5. Take your best results from #3 and try 3 different optimizers. (LMGTFY)"
   ]
  },
  {
   "cell_type": "code",
   "execution_count": null,
   "metadata": {},
   "outputs": [],
   "source": [
    "## 5 optimizer=sgd, roc_auc_score: 0.7811275278944515\n",
    "\n",
    "y = np.array(data.loc[:,0])\n",
    "x = np.array(data.loc[:,1:])\n",
    "x_test = np.array(test_data.loc[:,1:])\n",
    "y_test = np.array(test_data.loc[:,0])\n",
    "\n",
    "model_q5_sgd = Sequential()\n",
    "model_q5_sgd.add(Dense(50, input_dim=x.shape[1], kernel_initializer='uniform')) # X_train.shape[1] == 28 here\n",
    "model_q5_sgd.add(Activation('sigmoid'))\n",
    "model_q5_sgd.add(Dropout(0.10))\n",
    "\n",
    "model_q5_sgd.add(Dense(50, kernel_initializer='uniform'))\n",
    "model_q5_sgd.add(Activation('sigmoid'))\n",
    "model_q5_sgd.add(Dropout(0.10))\n",
    "\n",
    "model_q5_sgd.add(Dense(1, kernel_initializer='uniform')) \n",
    "model_q5_sgd.add(Activation('sigmoid'))\n",
    "\n",
    "sgd = SGD(lr=0.1, decay=1e-6, momentum=0.9, nesterov=True)\n",
    "model_q5_sgd.compile(loss='binary_crossentropy', metrics=['accuracy'], optimizer=sgd)\n",
    "\n",
    "model_q5_sgd.fit(x, y, epochs=5, batch_size=1000)\n",
    "roc_auc_score(y_test,model_q5_sgd.predict(x_test))"
   ]
  },
  {
   "cell_type": "code",
   "execution_count": null,
   "metadata": {},
   "outputs": [],
   "source": [
    "## 5 optimizer=Adamax, roc_auc_score: 0.8227544567440018\n",
    "\n",
    "from keras.optimizers import Adamax\n",
    "\n",
    "y = np.array(data.loc[:,0])\n",
    "x = np.array(data.loc[:,1:])\n",
    "x_test = np.array(test_data.loc[:,1:])\n",
    "y_test = np.array(test_data.loc[:,0])\n",
    "\n",
    "model_q5_adam = Sequential()\n",
    "model_q5_adam.add(Dense(50, input_dim=x.shape[1], kernel_initializer='uniform')) # X_train.shape[1] == 28 here\n",
    "model_q5_adam.add(Activation('sigmoid'))\n",
    "model_q5_adam.add(Dropout(0.10))\n",
    "\n",
    "model_q5_adam.add(Dense(50, kernel_initializer='uniform'))\n",
    "model_q5_adam.add(Activation('sigmoid'))\n",
    "model_q5_adam.add(Dropout(0.10))\n",
    "\n",
    "model_q5_adam.add(Dense(1, kernel_initializer='uniform')) \n",
    "model_q5_adam.add(Activation('sigmoid'))\n",
    "\n",
    "adam = Adamax(lr=0.1, beta_1=0.9, beta_2=0.999, epsilon=None, decay=1e-6)\n",
    "model_q5_adam.compile(loss='binary_crossentropy', metrics=['accuracy'], optimizer=adam)\n",
    "\n",
    "model_q5_adam.fit(x, y, epochs=5, batch_size=1000)\n",
    "roc_auc_score(y_test,model_q5_adam.predict(x_test))"
   ]
  },
  {
   "cell_type": "code",
   "execution_count": null,
   "metadata": {},
   "outputs": [],
   "source": [
    "## 5 optimizer=Nadam, roc_auc_score: 0.7801730074105127\n",
    "\n",
    "from keras.optimizers import Nadam\n",
    "\n",
    "y = np.array(data.loc[:,0])\n",
    "x = np.array(data.loc[:,1:])\n",
    "x_test = np.array(test_data.loc[:,1:])\n",
    "y_test = np.array(test_data.loc[:,0])\n",
    "\n",
    "model_q5_nag = Sequential()\n",
    "model_q5_nag.add(Dense(50, input_dim=x.shape[1], kernel_initializer='uniform')) # X_train.shape[1] == 28 here\n",
    "model_q5_nag.add(Activation('sigmoid'))\n",
    "model_q5_nag.add(Dropout(0.10))\n",
    "\n",
    "model_q5_nag.add(Dense(50, kernel_initializer='uniform'))\n",
    "model_q5_nag.add(Activation('sigmoid'))\n",
    "model_q5_nag.add(Dropout(0.10))\n",
    "\n",
    "model_q5_nag.add(Dense(1, kernel_initializer='uniform')) \n",
    "model_q5_nag.add(Activation('sigmoid'))\n",
    "\n",
    "nadam = Nadam(lr=0.1, beta_1=0.9, beta_2=0.999, epsilon=None, schedule_decay=1e-6)\n",
    "\n",
    "model_q5_nag.compile(loss='binary_crossentropy', metrics=['accuracy'], optimizer=nadam)\n",
    "\n",
    "model_q5_nag.fit(x, y, epochs=5, batch_size=1000)\n",
    "roc_auc_score(y_test,model_q5_nag.predict(x_test))"
   ]
  },
  {
   "cell_type": "code",
   "execution_count": null,
   "metadata": {},
   "outputs": [],
   "source": [
    "## 6. Take all that you’ve learned so far and give your best shot at producing a score. "
   ]
  },
  {
   "cell_type": "code",
   "execution_count": null,
   "metadata": {},
   "outputs": [],
   "source": [
    "## 3xlayers, kernel_initializer='random_uniform, activation= 'sigmoid', optimizer= Adamax, batch_size=10\n",
    "##  roc_auc_score: 0.7875221799347585\n",
    "\n",
    "# from keras.optimizers import Adamax\n",
    "\n",
    "y = np.array(data.loc[:,0])\n",
    "x = np.array(data.loc[:,1:])\n",
    "x_test = np.array(test_data.loc[:,1:])\n",
    "y_test = np.array(test_data.loc[:,0])\n",
    "\n",
    "model_q5_adam = Sequential()\n",
    "model_q5_adam.add(Dense(50, input_dim=x.shape[1], kernel_initializer='random_uniform')) # X_train.shape[1] == 28 here\n",
    "model_q5_adam.add(Activation('sigmoid'))\n",
    "model_q5_adam.add(Dropout(0.10))\n",
    "\n",
    "model_q5_adam.add(Dense(50, kernel_initializer='random_uniform'))\n",
    "model_q5_adam.add(Activation('sigmoid'))\n",
    "model_q5_adam.add(Dropout(0.10))\n",
    "\n",
    "model_q5_adam.add(Dense(1, kernel_initializer='random_uniform')) \n",
    "model_q5_adam.add(Activation('sigmoid'))\n",
    "\n",
    "adam = Adamax(lr=0.1, beta_1=0.9, beta_2=0.999, epsilon=None, decay=1e-6)\n",
    "model_q5_adam.compile(loss='binary_crossentropy', metrics=['accuracy'], optimizer=adam)\n",
    "\n",
    "model_q5_adam.fit(x, y, epochs=5, batch_size=10)\n",
    "roc_auc_score(y_test,model_q5_adam.predict(x_test))"
   ]
  },
  {
   "cell_type": "code",
   "execution_count": null,
   "metadata": {},
   "outputs": [],
   "source": [
    "## 3xlayers, kernel_initializer='random_uniform, activation= 'sigmoid', optimizer= Adamax, batch_size=500\n",
    "## roc_auc_score: 0.8174560479875594\n",
    "\n",
    "## from keras.optimizers import Adamax\n",
    "\n",
    "y = np.array(data.loc[:,0])\n",
    "x = np.array(data.loc[:,1:])\n",
    "x_test = np.array(test_data.loc[:,1:])\n",
    "y_test = np.array(test_data.loc[:,0])\n",
    "\n",
    "model_q5_adam = Sequential()\n",
    "model_q5_adam.add(Dense(50, input_dim=x.shape[1], kernel_initializer='random_uniform')) # X_train.shape[1] == 28 here\n",
    "model_q5_adam.add(Activation('sigmoid'))\n",
    "model_q5_adam.add(Dropout(0.10))\n",
    "\n",
    "model_q5_adam.add(Dense(50, kernel_initializer='random_uniform'))\n",
    "model_q5_adam.add(Activation('sigmoid'))\n",
    "model_q5_adam.add(Dropout(0.10))\n",
    "\n",
    "model_q5_adam.add(Dense(1, kernel_initializer='random_uniform')) \n",
    "model_q5_adam.add(Activation('sigmoid'))\n",
    "\n",
    "adam = Adamax(lr=0.1, beta_1=0.9, beta_2=0.999, epsilon=None, decay=1e-6)\n",
    "model_q5_adam.compile(loss='binary_crossentropy', metrics=['accuracy'], optimizer=adam)\n",
    "\n",
    "model_q5_adam.fit(x, y, epochs=5, batch_size=500)\n",
    "roc_auc_score(y_test,model_q5_adam.predict(x_test))"
   ]
  },
  {
   "cell_type": "code",
   "execution_count": null,
   "metadata": {},
   "outputs": [],
   "source": [
    "## 3xlayers, kernel_initializer='random_uniform, activation= 'sigmoid', optimizer= Adamax, batch_size=1000\n",
    "## roc_auc_score: 0.8235113259509186\n",
    "\n",
    "## from keras.optimizers import Adamax\n",
    "\n",
    "y = np.array(data.loc[:,0])\n",
    "x = np.array(data.loc[:,1:])\n",
    "x_test = np.array(test_data.loc[:,1:])\n",
    "y_test = np.array(test_data.loc[:,0])\n",
    "\n",
    "model_q5_adam = Sequential()\n",
    "model_q5_adam.add(Dense(50, input_dim=x.shape[1], kernel_initializer='uniform')) # X_train.shape[1] == 28 here\n",
    "model_q5_adam.add(Activation('sigmoid'))\n",
    "model_q5_adam.add(Dropout(0.10))\n",
    "\n",
    "model_q5_adam.add(Dense(50, kernel_initializer='uniform'))\n",
    "model_q5_adam.add(Activation('sigmoid'))\n",
    "model_q5_adam.add(Dropout(0.10))\n",
    "\n",
    "model_q5_adam.add(Dense(1, kernel_initializer='uniform')) \n",
    "model_q5_adam.add(Activation('sigmoid'))\n",
    "\n",
    "adam = Adamax(lr=0.1, beta_1=0.9, beta_2=0.999, epsilon=None, decay=1e-6)\n",
    "model_q5_adam.compile(loss='binary_crossentropy', metrics=['accuracy'], optimizer=adam)\n",
    "\n",
    "model_q5_adam.fit(x, y, epochs=5, batch_size=1000)\n",
    "roc_auc_score(y_test,model_q5_adam.predict(x_test))"
   ]
  },
  {
   "cell_type": "code",
   "execution_count": null,
   "metadata": {},
   "outputs": [],
   "source": [
    "## 3xlayers, kernel_initializer='random_uniform, activation= 'sigmoid', optimizer= Adamax, batch_size=10000\n",
    "## roc_auc_score:0.8213663083670677\n",
    "\n",
    "## from keras.optimizers import Adamax\n",
    "\n",
    "y = np.array(data.loc[:,0])\n",
    "x = np.array(data.loc[:,1:])\n",
    "x_test = np.array(test_data.loc[:,1:])\n",
    "y_test = np.array(test_data.loc[:,0])\n",
    "\n",
    "model_q5_adam = Sequential()\n",
    "model_q5_adam.add(Dense(50, input_dim=x.shape[1], kernel_initializer='uniform')) # X_train.shape[1] == 28 here\n",
    "model_q5_adam.add(Activation('sigmoid'))\n",
    "model_q5_adam.add(Dropout(0.10))\n",
    "\n",
    "model_q5_adam.add(Dense(50, kernel_initializer='uniform'))\n",
    "model_q5_adam.add(Activation('sigmoid'))\n",
    "model_q5_adam.add(Dropout(0.10))\n",
    "\n",
    "model_q5_adam.add(Dense(1, kernel_initializer='uniform')) \n",
    "model_q5_adam.add(Activation('sigmoid'))\n",
    "\n",
    "adam = Adamax(lr=0.1, beta_1=0.9, beta_2=0.999, epsilon=None, decay=1e-6)\n",
    "model_q5_adam.compile(loss='binary_crossentropy', metrics=['accuracy'], optimizer=adam)\n",
    "\n",
    "model_q5_adam.fit(x, y, epochs=5, batch_size=1000)\n",
    "roc_auc_score(y_test,model_q5_adam.predict(x_test))"
   ]
  },
  {
   "cell_type": "code",
   "execution_count": null,
   "metadata": {},
   "outputs": [],
   "source": []
  },
  {
   "cell_type": "code",
   "execution_count": null,
   "metadata": {},
   "outputs": [],
   "source": [
    "## Questions to be answered (These are loaded questions—be warned they are there to test your understanding):\n",
    "## Q1: What was the effect of adding more layers/neurons. 10 points "
   ]
  },
  {
   "cell_type": "code",
   "execution_count": null,
   "metadata": {},
   "outputs": [],
   "source": [
    "## final 3 layers\n",
    "\n",
    "from keras.optimizers import Adamax\n",
    "\n",
    "epochs = 15\n",
    "batch_size = 1000\n",
    "\n",
    "y = np.array(data.loc[:,0])\n",
    "x = np.array(data.loc[:,1:])\n",
    "x_test = np.array(test_data.loc[:,1:])\n",
    "y_test = np.array(test_data.loc[:,0])\n",
    "\n",
    "model_q7 = Sequential()\n",
    "model_q7.add(Dense(50, input_dim=x.shape[1], kernel_initializer='uniform')) # X_train.shape[1] == 28 here\n",
    "model_q7.add(Activation('sigmoid'))\n",
    "model_q7.add(Dropout(0.10))\n",
    "\n",
    "model_q7.add(Dense(50, kernel_initializer='uniform'))\n",
    "model_q7.add(Activation('sigmoid'))\n",
    "model_q7.add(Dropout(0.10))\n",
    "\n",
    "model_q7.add(Dense(1, kernel_initializer='uniform')) \n",
    "model_q7.add(Activation('sigmoid'))\n",
    "\n",
    "adam = Adamax(lr=0.1, beta_1=0.9, beta_2=0.999, epsilon=None, decay=1e-6)\n",
    "model_q7.compile(loss='binary_crossentropy', metrics=['accuracy'], optimizer=adam)\n",
    "\n",
    "\n",
    "h = model_q7.fit(\n",
    "    x,\n",
    "    y,\n",
    "    batch_size=batch_size,\n",
    "    epochs=epochs,\n",
    "    validation_data=(x_test, y_test),\n",
    "    shuffle=True\n",
    ")\n",
    "\n",
    "show_scores(model_q7, h, x, y, x_test, y_test)"
   ]
  },
  {
   "cell_type": "code",
   "execution_count": null,
   "metadata": {},
   "outputs": [],
   "source": [
    "from sklearn.metrics import roc_auc_score"
   ]
  },
  {
   "cell_type": "code",
   "execution_count": null,
   "metadata": {},
   "outputs": [],
   "source": [
    "# model_q7.fit(x, y, epochs=10, batch_size=1000)\n",
    "from sklearn.metrics import roc_auc_score\n",
    "roc_auc_score(y_test, model_q7.predict(x_test))"
   ]
  },
  {
   "cell_type": "code",
   "execution_count": null,
   "metadata": {
    "scrolled": true
   },
   "outputs": [],
   "source": [
    "## final 5 layers\n",
    "\n",
    "from keras.optimizers import Adamax\n",
    "\n",
    "epochs = 15\n",
    "batch_size = 1000\n",
    "\n",
    "y = np.array(data.loc[:,0])\n",
    "x = np.array(data.loc[:,1:])\n",
    "x_test = np.array(test_data.loc[:,1:])\n",
    "y_test = np.array(test_data.loc[:,0])\n",
    "\n",
    "model_q8 = Sequential()\n",
    "model_q8.add(Dense(50, input_dim=x.shape[1], kernel_initializer='uniform')) # X_train.shape[1] == 28 here\n",
    "model_q8.add(Activation('sigmoid'))\n",
    "model_q8.add(Dropout(0.10))\n",
    "\n",
    "model_q8.add(Dense(50, kernel_initializer='uniform'))\n",
    "model_q8.add(Activation('sigmoid'))\n",
    "model_q8.add(Dropout(0.10))\n",
    "\n",
    "model_q8.add(Dense(50, kernel_initializer='uniform'))\n",
    "model_q8.add(Activation('sigmoid'))\n",
    "model_q8.add(Dropout(0.10))\n",
    "\n",
    "model_q8.add(Dense(50, kernel_initializer='uniform'))\n",
    "model_q8.add(Activation('sigmoid'))\n",
    "model_q8.add(Dropout(0.10))\n",
    "\n",
    "model_q8.add(Dense(1, kernel_initializer='uniform')) \n",
    "model_q8.add(Activation('sigmoid'))\n",
    "\n",
    "adam = Adamax(lr=0.1, beta_1=0.9, beta_2=0.999, epsilon=None, decay=1e-6)\n",
    "model_q8.compile(loss='binary_crossentropy', metrics=['accuracy'], optimizer=adam)\n",
    "\n",
    "\n",
    "h = model_q8.fit(\n",
    "    x,\n",
    "    y,\n",
    "    batch_size=batch_size,\n",
    "    epochs=epochs,\n",
    "    validation_data=(x_test, y_test),\n",
    "    shuffle=True\n",
    ")\n",
    "\n",
    "print('Saving model_q8 to the file \"model8.h5\"')\n",
    "model_q8.save(\"model_q8.h5\")\n",
    "\n",
    "show_scores(model_q8, h, x, y, x_test, y_test)"
   ]
  },
  {
   "cell_type": "code",
   "execution_count": null,
   "metadata": {},
   "outputs": [],
   "source": [
    "from sklearn.metrics import roc_auc_score\n",
    "roc_auc_score(y_test, model_q8.predict(x_test))"
   ]
  },
  {
   "cell_type": "code",
   "execution_count": null,
   "metadata": {},
   "outputs": [],
   "source": [
    "## Q2: Which parameters gave you the best result and why (in your opinion) did they work. 10 points"
   ]
  },
  {
   "cell_type": "code",
   "execution_count": null,
   "metadata": {},
   "outputs": [],
   "source": [
    "## https://hackernoon.com/simple-guide-on-how-to-generate-roc-plot-for-keras-classifier-2ecc6c73115a"
   ]
  },
  {
   "cell_type": "code",
   "execution_count": null,
   "metadata": {},
   "outputs": [],
   "source": []
  },
  {
   "cell_type": "code",
   "execution_count": 3,
   "metadata": {},
   "outputs": [
    {
     "name": "stdout",
     "output_type": "stream",
     "text": [
      "WARNING:tensorflow:From C:\\Users\\shanq\\Miniconda3\\envs\\tensorflow-gpu\\lib\\site-packages\\tensorflow\\python\\framework\\op_def_library.py:263: colocate_with (from tensorflow.python.framework.ops) is deprecated and will be removed in a future version.\n",
      "Instructions for updating:\n",
      "Colocations handled automatically by placer.\n",
      "WARNING:tensorflow:From C:\\Users\\shanq\\Miniconda3\\envs\\tensorflow-gpu\\lib\\site-packages\\keras\\backend\\tensorflow_backend.py:3445: calling dropout (from tensorflow.python.ops.nn_ops) with keep_prob is deprecated and will be removed in a future version.\n",
      "Instructions for updating:\n",
      "Please use `rate` instead of `keep_prob`. Rate should be set to `rate = 1 - keep_prob`.\n",
      "WARNING:tensorflow:From C:\\Users\\shanq\\Miniconda3\\envs\\tensorflow-gpu\\lib\\site-packages\\tensorflow\\python\\ops\\math_ops.py:3066: to_int32 (from tensorflow.python.ops.math_ops) is deprecated and will be removed in a future version.\n",
      "Instructions for updating:\n",
      "Use tf.cast instead.\n",
      "Epoch 1/5\n",
      "10500000/10500000 [==============================] - 42s 4us/step - loss: 0.5974 - acc: 0.6762\n",
      "Epoch 2/5\n",
      "10500000/10500000 [==============================] - 38s 4us/step - loss: 0.5685 - acc: 0.7024\n",
      "Epoch 3/5\n",
      "10500000/10500000 [==============================] - 38s 4us/step - loss: 0.5596 - acc: 0.7095\n",
      "Epoch 4/5\n",
      "10500000/10500000 [==============================] - 38s 4us/step - loss: 0.5566 - acc: 0.7116\n",
      "Epoch 5/5\n",
      "10500000/10500000 [==============================] - 38s 4us/step - loss: 0.5550 - acc: 0.7131\n"
     ]
    },
    {
     "data": {
      "text/plain": [
       "<keras.callbacks.History at 0x1a724c30710>"
      ]
     },
     "execution_count": 3,
     "metadata": {},
     "output_type": "execute_result"
    }
   ],
   "source": [
    "y = np.array(data.loc[:,0])\n",
    "x = np.array(data.loc[:,1:])\n",
    "x_test = np.array(test_data.loc[:,1:])\n",
    "y_test = np.array(test_data.loc[:,0])\n",
    "\n",
    "from keras.optimizers import Adamax\n",
    "\n",
    "def build_model8():\n",
    "    model_q8 = Sequential()\n",
    "    model_q8.add(Dense(50, input_dim=x.shape[1], kernel_initializer='uniform'))\n",
    "    model_q8.add(Activation('sigmoid'))\n",
    "    model_q8.add(Dropout(0.10))   \n",
    "    \n",
    "    model_q8.add(Dense(1, kernel_initializer='uniform')) \n",
    "    model_q8.add(Activation('sigmoid'))\n",
    "    \n",
    "    adam = Adamax(lr=0.1, beta_1=0.9, beta_2=0.999, epsilon=None, decay=1e-6)\n",
    "    model_q8.compile(loss='binary_crossentropy', metrics=['accuracy'], optimizer=adam)\n",
    "    return model_q8\n",
    "\n",
    "\n",
    "from keras.wrappers.scikit_learn import KerasClassifier\n",
    "keras_model1 = build_model8()\n",
    "keras_model1.fit(x, y, epochs=5, batch_size=1000, verbose=1)\n"
   ]
  },
  {
   "cell_type": "code",
   "execution_count": 4,
   "metadata": {},
   "outputs": [
    {
     "name": "stdout",
     "output_type": "stream",
     "text": [
      "Epoch 1/5\n",
      "10500000/10500000 [==============================] - 41s 4us/step - loss: 0.5774 - acc: 0.6915\n",
      "Epoch 2/5\n",
      "10500000/10500000 [==============================] - 41s 4us/step - loss: 0.5445 - acc: 0.7201\n",
      "Epoch 3/5\n",
      "10500000/10500000 [==============================] - 43s 4us/step - loss: 0.5387 - acc: 0.7240\n",
      "Epoch 4/5\n",
      "10500000/10500000 [==============================] - 43s 4us/step - loss: 0.5354 - acc: 0.7263\n",
      "Epoch 5/5\n",
      "10500000/10500000 [==============================] - 43s 4us/step - loss: 0.5335 - acc: 0.7275\n"
     ]
    },
    {
     "data": {
      "text/plain": [
       "<keras.callbacks.History at 0x1a72e30d940>"
      ]
     },
     "execution_count": 4,
     "metadata": {},
     "output_type": "execute_result"
    }
   ],
   "source": [
    "## y = np.array(data.loc[:,0])\n",
    "## x = np.array(data.loc[:,1:])\n",
    "## x_test = np.array(test_data.loc[:,1:])\n",
    "## y_test = np.array(test_data.loc[:,0])\n",
    "\n",
    "## from keras.optimizers import Adamax\n",
    "\n",
    "def build_model9():\n",
    "    model_q9 = Sequential()\n",
    "    model_q9.add(Dense(50, input_dim=x.shape[1], kernel_initializer='uniform'))\n",
    "    model_q9.add(Activation('sigmoid'))\n",
    "    model_q9.add(Dropout(0.10))\n",
    "    \n",
    "    model_q9.add(Dense(50, kernel_initializer='uniform'))\n",
    "    model_q9.add(Activation('sigmoid'))\n",
    "    model_q9.add(Dropout(0.10))\n",
    "    \n",
    "    model_q9.add(Dense(1, kernel_initializer='uniform')) \n",
    "    model_q9.add(Activation('sigmoid'))\n",
    "    \n",
    "    adam = Adamax(lr=0.1, beta_1=0.9, beta_2=0.999, epsilon=None, decay=1e-6)\n",
    "    model_q9.compile(loss='binary_crossentropy', metrics=['accuracy'], optimizer=adam)\n",
    "    return model_q9\n",
    "\n",
    "\n",
    "from keras.wrappers.scikit_learn import KerasClassifier\n",
    "keras_model = build_model9()\n",
    "keras_model.fit(x, y, epochs=5, batch_size=1000, verbose=1)\n"
   ]
  },
  {
   "cell_type": "code",
   "execution_count": 5,
   "metadata": {},
   "outputs": [
    {
     "name": "stdout",
     "output_type": "stream",
     "text": [
      "Epoch 1/5\n",
      "10500000/10500000 [==============================] - 51s 5us/step - loss: 0.6917 - acc: 0.5293\n",
      "Epoch 2/5\n",
      "10500000/10500000 [==============================] - 50s 5us/step - loss: 0.6915 - acc: 0.5299\n",
      "Epoch 3/5\n",
      "10500000/10500000 [==============================] - 50s 5us/step - loss: 0.6915 - acc: 0.5299\n",
      "Epoch 4/5\n",
      "10500000/10500000 [==============================] - 50s 5us/step - loss: 0.6915 - acc: 0.5299\n",
      "Epoch 5/5\n",
      "10500000/10500000 [==============================] - 51s 5us/step - loss: 0.6915 - acc: 0.5300\n"
     ]
    },
    {
     "data": {
      "text/plain": [
       "<keras.callbacks.History at 0x1a7be597518>"
      ]
     },
     "execution_count": 5,
     "metadata": {},
     "output_type": "execute_result"
    }
   ],
   "source": [
    "# y = np.array(data.loc[:,0])\n",
    "# x = np.array(data.loc[:,1:])\n",
    "# x_test = np.array(test_data.loc[:,1:])\n",
    "# y_test = np.array(test_data.loc[:,0])\n",
    "\n",
    "def build_model10():\n",
    "    model_q10 = Sequential()\n",
    "    model_q10.add(Dense(50, input_dim=x.shape[1], kernel_initializer='uniform')) \n",
    "    model_q10.add(Dropout(0.10))\n",
    "    \n",
    "    model_q10.add(Dense(50, kernel_initializer='uniform'))\n",
    "    model_q10.add(Activation('sigmoid'))\n",
    "    model_q10.add(Dropout(0.10))\n",
    "    \n",
    "    model_q10.add(Dense(50, kernel_initializer='uniform'))\n",
    "    model_q10.add(Activation('sigmoid'))\n",
    "    model_q10.add(Dropout(0.10))\n",
    "    \n",
    "    model_q10.add(Dense(50, kernel_initializer='uniform'))\n",
    "    model_q10.add(Activation('sigmoid'))\n",
    "    model_q10.add(Dropout(0.10))\n",
    "    \n",
    "    model_q10.add(Dense(1, kernel_initializer='uniform')) \n",
    "    model_q10.add(Activation('sigmoid'))\n",
    "    \n",
    "    adam = Adamax(lr=0.1, beta_1=0.9, beta_2=0.999, epsilon=None, decay=1e-6)\n",
    "    model_q10.compile(loss='binary_crossentropy', metrics=['accuracy'], optimizer=adam)    \n",
    "    return model_q10\n",
    "\n",
    "keras_model2 = build_model10()\n",
    "keras_model2.fit(x, y, epochs=5, batch_size=1000, verbose=1)"
   ]
  },
  {
   "cell_type": "code",
   "execution_count": 7,
   "metadata": {},
   "outputs": [],
   "source": [
    "from sklearn.metrics import roc_curve\n",
    "y_pred_keras = keras_model.predict(x_test).ravel()\n",
    "fpr_keras, tpr_keras, thresholds_keras = roc_curve(y_test, y_pred_keras)\n",
    "\n",
    "y_pred_keras1 = keras_model1.predict(x_test).ravel()\n",
    "fpr_keras1, tpr_keras1, thresholds_keras1 = roc_curve(y_test, y_pred_keras1)\n",
    "\n",
    "y_pred_keras2 = keras_model2.predict(x_test).ravel()\n",
    "fpr_keras2, tpr_keras2, thresholds_keras2 = roc_curve(y_test, y_pred_keras2)"
   ]
  },
  {
   "cell_type": "code",
   "execution_count": 8,
   "metadata": {},
   "outputs": [],
   "source": [
    "from sklearn.metrics import auc\n",
    "auc_keras = auc(fpr_keras, tpr_keras)\n",
    "auc_keras1 = auc(fpr_keras1, tpr_keras1)\n",
    "auc_keras2 = auc(fpr_keras2, tpr_keras2)"
   ]
  },
  {
   "cell_type": "code",
   "execution_count": 9,
   "metadata": {},
   "outputs": [],
   "source": [
    "from matplotlib import pyplot as plt"
   ]
  },
  {
   "cell_type": "code",
   "execution_count": 10,
   "metadata": {},
   "outputs": [
    {
     "data": {
      "image/png": "[encoded data removed]",
      "text/plain": [
       "<Figure size 432x288 with 1 Axes>"
      ]
     },
     "metadata": {
      "needs_background": "light"
     },
     "output_type": "display_data"
    }
   ],
   "source": [
    "plt.figure(1)\n",
    "plt.plot([0, 1], [0, 1], 'k--')\n",
    "plt.plot(fpr_keras, tpr_keras, label='Layer 3 (area = {:.3f})'.format(auc_keras))\n",
    "plt.plot(fpr_keras1, tpr_keras1, label='Layer 2 (area = {:.3f})'.format(auc_keras1))\n",
    "plt.plot(fpr_keras2, tpr_keras2, label='Layer 5 (area = {:.3f})'.format(auc_keras2))\n",
    "plt.xlabel('False positive rate')\n",
    "plt.ylabel('True positive rate')\n",
    "plt.title('ROC curve')\n",
    "plt.legend(loc='best')\n",
    "plt.show()"
   ]
  },
  {
   "cell_type": "code",
   "execution_count": null,
   "metadata": {},
   "outputs": [],
   "source": [
    "\n",
    "## Q3: For #6, how did you decide that your model was ‘done’? 20 points"
   ]
  },
  {
   "cell_type": "code",
   "execution_count": 13,
   "metadata": {
    "scrolled": true
   },
   "outputs": [
    {
     "name": "stdout",
     "output_type": "stream",
     "text": [
      "Train on 10500000 samples, validate on 500000 samples\n",
      "Epoch 1/5\n",
      "10500000/10500000 [==============================] - 45s 4us/step - loss: 0.6113 - acc: 0.6430 - val_loss: 0.5414 - val_acc: 0.7233\n",
      "Epoch 2/5\n",
      "10500000/10500000 [==============================] - 44s 4us/step - loss: 0.5437 - acc: 0.7210 - val_loss: 0.5247 - val_acc: 0.7338\n",
      "Epoch 3/5\n",
      "10500000/10500000 [==============================] - 45s 4us/step - loss: 0.5361 - acc: 0.7260 - val_loss: 0.5190 - val_acc: 0.7375\n",
      "Epoch 4/5\n",
      "10500000/10500000 [==============================] - 44s 4us/step - loss: 0.5327 - acc: 0.7282 - val_loss: 0.5164 - val_acc: 0.7389\n",
      "Epoch 5/5\n",
      "10500000/10500000 [==============================] - 45s 4us/step - loss: 0.5309 - acc: 0.7294 - val_loss: 0.5164 - val_acc: 0.7388\n",
      "Saving model_11_adam to the file \"model_11_adam.h5\"\n",
      "Training: accuracy   = 0.739263 loss = 0.516467\n",
      "Validation: accuracy = 0.738810 loss = 0.516370\n",
      "Over fitting score   = 0.010540\n",
      "Under fitting score  = 0.024939\n",
      "Params count: 4051\n",
      "stop epoch = 4\n",
      "epochs = 5\n",
      "batch_size = 1000\n",
      "samples = 10500000\n"
     ]
    },
    {
     "data": {
      "image/png": "[encoded data removed]",
      "text/plain": [
       "<Figure size 432x288 with 1 Axes>"
      ]
     },
     "metadata": {
      "needs_background": "light"
     },
     "output_type": "display_data"
    },
    {
     "data": {
      "image/png": "[encoded data removed]",
      "text/plain": [
       "<Figure size 432x288 with 1 Axes>"
      ]
     },
     "metadata": {
      "needs_background": "light"
     },
     "output_type": "display_data"
    }
   ],
   "source": [
    "## 2xlayers, roc_auc_score = 0.7791760135160337\n",
    "\n",
    "epochs = 5\n",
    "batch_size = 1000\n",
    "\n",
    "y = np.array(data.loc[:,0])\n",
    "x = np.array(data.loc[:,1:])\n",
    "x_test = np.array(test_data.loc[:,1:])\n",
    "y_test = np.array(test_data.loc[:,0])\n",
    "\n",
    "model_11_adam = Sequential()\n",
    "model_11_adam.add(Dense(50, input_dim=x.shape[1], kernel_initializer='uniform')) # X_train.shape[1] == 28 here\n",
    "model_11_adam.add(Activation('sigmoid'))\n",
    "model_11_adam.add(Dropout(0.10))\n",
    "\n",
    "model_11_adam.add(Dense(50, kernel_initializer='uniform'))\n",
    "model_11_adam.add(Activation('sigmoid'))\n",
    "model_11_adam.add(Dropout(0.10))\n",
    "\n",
    "model_11_adam.add(Dense(1, kernel_initializer='uniform')) \n",
    "model_11_adam.add(Activation('sigmoid'))\n",
    "\n",
    "adam = Adamax(lr=0.1, beta_1=0.9, beta_2=0.999, epsilon=None, decay=1e-6)\n",
    "model_11_adam.compile(loss='binary_crossentropy', metrics=['accuracy'], optimizer=adam)\n",
    "\n",
    "h = model_11_adam.fit(\n",
    "    x,\n",
    "    y,\n",
    "    batch_size=batch_size,\n",
    "    epochs=epochs,\n",
    "    validation_data=(x_test, y_test),\n",
    "    shuffle=True\n",
    ")\n",
    "\n",
    "print('Saving model_11_adam to the file \"model_11_adam.h5\"')\n",
    "model_11_adam.save(\"model_11_adam.h5\")\n",
    "\n",
    "## model_q1_2.fit(x, y, epochs=5, batch_size=1000)\n",
    "## roc_auc_score(y_test,model_q1_2.predict(x_test))\n",
    "\n",
    "show_scores(model_11_adam, h, x, y, x_test, y_test)"
   ]
  },
  {
   "cell_type": "code",
   "execution_count": 14,
   "metadata": {},
   "outputs": [
    {
     "data": {
      "text/plain": [
       "0.8208147448755715"
      ]
     },
     "execution_count": 14,
     "metadata": {},
     "output_type": "execute_result"
    }
   ],
   "source": [
    "roc_auc_score(y_test, model_11_adam.predict(x_test))"
   ]
  },
  {
   "cell_type": "code",
   "execution_count": null,
   "metadata": {},
   "outputs": [],
   "source": []
  }
 ],
 "metadata": {
  "kernelspec": {
   "display_name": "Python 3",
   "language": "python",
   "name": "python3"
  },
  "language_info": {
   "codemirror_mode": {
    "name": "ipython",
    "version": 3
   },
   "file_extension": ".py",
   "mimetype": "text/x-python",
   "name": "python",
   "nbconvert_exporter": "python",
   "pygments_lexer": "ipython3",
   "version": "3.6.8"
  }
 },
 "nbformat": 4,
 "nbformat_minor": 2
}
